{
 "cells": [
  {
   "cell_type": "markdown",
   "metadata": {
    "application/vnd.databricks.v1+cell": {
     "cellMetadata": {
      "byteLimit": 2048000,
      "rowLimit": 10000
     },
     "inputWidgets": {},
     "nuid": "69fd9960-7c96-4304-aa30-b986705c901e",
     "showTitle": false,
     "title": ""
    }
   },
   "source": [
    "### Get environment name from widget and assign to variable "
   ]
  },
  {
   "cell_type": "code",
   "execution_count": 0,
   "metadata": {
    "application/vnd.databricks.v1+cell": {
     "cellMetadata": {
      "byteLimit": 2048000,
      "rowLimit": 10000
     },
     "inputWidgets": {},
     "nuid": "a042e2de-2463-47b2-9edc-b1f47cc8025d",
     "showTitle": false,
     "title": ""
    }
   },
   "outputs": [],
   "source": [
    "dbutils.widgets.text(name=\"env\",defaultValue='',label='Enter the environment in lower case')\n",
    "env = dbutils.widgets.get(\"env\")"
   ]
  },
  {
   "cell_type": "markdown",
   "metadata": {
    "application/vnd.databricks.v1+cell": {
     "cellMetadata": {
      "byteLimit": 2048000,
      "rowLimit": 10000
     },
     "inputWidgets": {},
     "nuid": "3ddad053-05d9-40c4-8a34-c1025113e62b",
     "showTitle": false,
     "title": ""
    }
   },
   "source": [
    "\n",
    "<br>\n",
    "\n",
    "### Call common notebook to access shared variables and methods"
   ]
  },
  {
   "cell_type": "code",
   "execution_count": 0,
   "metadata": {
    "application/vnd.databricks.v1+cell": {
     "cellMetadata": {
      "byteLimit": 2048000,
      "rowLimit": 10000
     },
     "inputWidgets": {},
     "nuid": "feda16f5-0539-49bb-b75e-79977ea5a3be",
     "showTitle": false,
     "title": ""
    }
   },
   "outputs": [],
   "source": [
    "%run \"/Workspace/Users/yen#ext#@yenyahoo.onmicrosoft.com/3_Common\""
   ]
  },
  {
   "cell_type": "markdown",
   "metadata": {
    "application/vnd.databricks.v1+cell": {
     "cellMetadata": {
      "byteLimit": 2048000,
      "rowLimit": 10000
     },
     "inputWidgets": {},
     "nuid": "7de9bee9-6a05-4dc3-8cda-5c3a35a1b53e",
     "showTitle": false,
     "title": ""
    }
   },
   "source": [
    "\n",
    "### Read Silver_Traffic table"
   ]
  },
  {
   "cell_type": "code",
   "execution_count": 0,
   "metadata": {
    "application/vnd.databricks.v1+cell": {
     "cellMetadata": {
      "byteLimit": 2048000,
      "rowLimit": 10000
     },
     "inputWidgets": {},
     "nuid": "3f309d03-fe11-4c73-acf6-147ea2511399",
     "showTitle": false,
     "title": ""
    }
   },
   "outputs": [],
   "source": [
    "\n",
    "def read_SilverTrafficTable(environment):\n",
    "\n",
    "    print('Reading the Silver Traffic Table Data : ', end='')\n",
    "\n",
    "    df_SilverTraffic = (spark.readStream\n",
    "                    .table(f\"`{environment}_catalog`.`silver`.silver_traffic\")\n",
    "                    )\n",
    "    \n",
    "    print(f'Reading {environment}_catalog.silver.silver_traffic Success!')\n",
    "\n",
    "    print(\"**********************************\")\n",
    "\n",
    "    return df_SilverTraffic"
   ]
  },
  {
   "cell_type": "markdown",
   "metadata": {
    "application/vnd.databricks.v1+cell": {
     "cellMetadata": {
      "byteLimit": 2048000,
      "rowLimit": 10000
     },
     "inputWidgets": {},
     "nuid": "93715928-c3ce-462f-8873-c67f59a03f6e",
     "showTitle": false,
     "title": ""
    }
   },
   "source": [
    "\n",
    "### Read silver_roads Table"
   ]
  },
  {
   "cell_type": "code",
   "execution_count": 0,
   "metadata": {
    "application/vnd.databricks.v1+cell": {
     "cellMetadata": {
      "byteLimit": 2048000,
      "rowLimit": 10000
     },
     "inputWidgets": {},
     "nuid": "494cf475-6a43-4d88-bec9-a1ac279336e1",
     "showTitle": false,
     "title": ""
    }
   },
   "outputs": [],
   "source": [
    "\n",
    "def read_SilverRoadsTable(environment):\n",
    "\n",
    "    print('Reading the Silver Table Silver_roads Data : ', end='')\n",
    "\n",
    "    df_SilverRoads = (spark.readStream\n",
    "                    .table(f\"`{environment}_catalog`.`silver`.silver_roads\")\n",
    "                    )\n",
    "    \n",
    "    print(f'Reading {environment}_catalog.silver.silver_roads Success!')\n",
    "\n",
    "    print(\"**********************************\")\n",
    "\n",
    "    return df_SilverRoads"
   ]
  },
  {
   "cell_type": "markdown",
   "metadata": {
    "application/vnd.databricks.v1+cell": {
     "cellMetadata": {
      "byteLimit": 2048000,
      "rowLimit": 10000
     },
     "inputWidgets": {},
     "nuid": "dbf1b5ca-e588-4f66-adec-2abfd5129dbd",
     "showTitle": false,
     "title": ""
    }
   },
   "source": [
    "\n",
    "## Creating vehicle Intensity Column"
   ]
  },
  {
   "cell_type": "code",
   "execution_count": 0,
   "metadata": {
    "application/vnd.databricks.v1+cell": {
     "cellMetadata": {
      "byteLimit": 2048000,
      "rowLimit": 10000
     },
     "inputWidgets": {},
     "nuid": "46ca2256-f7e9-48d2-ad3d-4c6f48fd1f2f",
     "showTitle": false,
     "title": ""
    }
   },
   "outputs": [],
   "source": [
    "def create_VehicleIntensity(df):\n",
    " \n",
    " print('Creating Vehicle Intensity column : ', end='')\n",
    "\n",
    " from pyspark.sql.functions import col\n",
    "\n",
    " df_veh = df.withColumn('Vehicle_Intensity',\n",
    "               col('Motor_Vehicles_Count') / col('Link_length_km')\n",
    "               )\n",
    " \n",
    " print(\"Success!!!\")\n",
    " print('***************')\n",
    " \n",
    " return df_veh"
   ]
  },
  {
   "cell_type": "markdown",
   "metadata": {
    "application/vnd.databricks.v1+cell": {
     "cellMetadata": {
      "byteLimit": 2048000,
      "rowLimit": 10000
     },
     "inputWidgets": {},
     "nuid": "b2177ff7-9497-4d9c-a2b6-d3c365933fe1",
     "showTitle": false,
     "title": ""
    }
   },
   "source": [
    "### Creating LoadTime column"
   ]
  },
  {
   "cell_type": "code",
   "execution_count": 0,
   "metadata": {
    "application/vnd.databricks.v1+cell": {
     "cellMetadata": {
      "byteLimit": 2048000,
      "rowLimit": 10000
     },
     "inputWidgets": {},
     "nuid": "6535cf45-a651-4d0c-b3d6-209bf9a58446",
     "showTitle": false,
     "title": ""
    }
   },
   "outputs": [],
   "source": [
    "def create_LoadTime(df):\n",
    "    \n",
    "    from pyspark.sql.functions import current_timestamp\n",
    "\n",
    "    print('Creating Load Time column : ',end='')\n",
    "\n",
    "    df_timestamp = df.withColumn('Load_Time', current_timestamp() )\n",
    "    \n",
    "    print('Success!!')\n",
    "    print('**************')\n",
    "    return df_timestamp"
   ]
  },
  {
   "cell_type": "markdown",
   "metadata": {
    "application/vnd.databricks.v1+cell": {
     "cellMetadata": {
      "byteLimit": 2048000,
      "rowLimit": 10000
     },
     "inputWidgets": {},
     "nuid": "9e90a947-97b7-45eb-b07b-fe542f7b9824",
     "showTitle": false,
     "title": ""
    }
   },
   "source": [
    "\n",
    "### Writing Data to Gold Traffic\n"
   ]
  },
  {
   "cell_type": "code",
   "execution_count": 0,
   "metadata": {
    "application/vnd.databricks.v1+cell": {
     "cellMetadata": {
      "byteLimit": 2048000,
      "rowLimit": 10000
     },
     "inputWidgets": {},
     "nuid": "ee34a46a-9e97-4859-b33b-704be1f9c09a",
     "showTitle": false,
     "title": ""
    }
   },
   "outputs": [],
   "source": [
    "def write_Traffic_GoldTable(StreamingDF,environment):\n",
    "    print('Writing the gold_traffic Data : ',end='') \n",
    "\n",
    "    write_gold_traffic = (StreamingDF.writeStream\n",
    "                .format('delta')\n",
    "                .option('checkpointLocation', checkpoint + \"GoldTrafficLoad/Checkpt/\")\n",
    "                .outputMode('append')\n",
    "                .queryName(\"GoldTrafficWriteStream\")\n",
    "                .trigger(availableNow=True)\n",
    "                .toTable(f\"`{environment}_catalog`.`gold`.`gold_traffic`\"))\n",
    "    \n",
    "    write_gold_traffic.awaitTermination()\n",
    "    print(f'Writing `{environment}_catalog`.`gold`.`gold_traffic` Success!')"
   ]
  },
  {
   "cell_type": "markdown",
   "metadata": {
    "application/vnd.databricks.v1+cell": {
     "cellMetadata": {
      "byteLimit": 2048000,
      "rowLimit": 10000
     },
     "inputWidgets": {},
     "nuid": "2c43defd-b7fc-40a4-832b-40999853c77b",
     "showTitle": false,
     "title": ""
    }
   },
   "source": [
    "\n",
    "### Writing Data to Gold Roads\n"
   ]
  },
  {
   "cell_type": "code",
   "execution_count": 0,
   "metadata": {
    "application/vnd.databricks.v1+cell": {
     "cellMetadata": {
      "byteLimit": 2048000,
      "rowLimit": 10000
     },
     "inputWidgets": {},
     "nuid": "5bf4b720-fe50-49bf-9dbf-783c0deb0749",
     "showTitle": false,
     "title": ""
    }
   },
   "outputs": [],
   "source": [
    "def write_Roads_GoldTable(StreamingDF,environment):\n",
    "    print('Writing the gold_roads Data : ',end='') \n",
    "\n",
    "    write_gold_roads = (StreamingDF.writeStream\n",
    "                .format('delta')\n",
    "                .option('checkpointLocation', checkpoint + \"GoldRoadsLoad/Checkpt/\")\n",
    "                .outputMode('append')\n",
    "                .queryName(\"GoldRoadsWriteStream\")\n",
    "                .trigger(availableNow=True)\n",
    "                .toTable(f\"`{environment}_catalog`.`gold`.`gold_roads`\"))\n",
    "    \n",
    "    write_gold_roads.awaitTermination()\n",
    "    print(f'Writing `{environment}_catalog`.`gold`.`gold_roads` Success!')"
   ]
  },
  {
   "cell_type": "markdown",
   "metadata": {
    "application/vnd.databricks.v1+cell": {
     "cellMetadata": {
      "byteLimit": 2048000,
      "rowLimit": 10000
     },
     "inputWidgets": {},
     "nuid": "0d85f554-9104-46a8-af3e-3cdd6387b47d",
     "showTitle": false,
     "title": ""
    }
   },
   "source": [
    "\n",
    "## Calling all functions\n"
   ]
  },
  {
   "cell_type": "code",
   "execution_count": 0,
   "metadata": {
    "application/vnd.databricks.v1+cell": {
     "cellMetadata": {
      "byteLimit": 2048000,
      "rowLimit": 10000
     },
     "inputWidgets": {},
     "nuid": "e6416298-01f6-4edd-875b-b87fc4beba54",
     "showTitle": false,
     "title": ""
    }
   },
   "outputs": [
    {
     "name": "stdout",
     "output_type": "stream",
     "text": [
      "Reading the Silver Traffic Table Data : Reading dev_catalog.silver.silver_traffic Success!\n",
      "**********************************\n",
      "Reading the Silver Table Silver_roads Data : Reading dev_catalog.silver.silver_roads Success!\n",
      "**********************************\n",
      "Creating Vehicle Intensity column : Success!!!\n",
      "***************\n",
      "Creating Load Time column : Success!!\n",
      "**************\n",
      "Creating Load Time column : Success!!\n",
      "**************\n",
      "Writing the gold_traffic Data : Writing `dev_catalog`.`gold`.`gold_traffic` Success!\n",
      "Writing the gold_roads Data : Writing `dev_catalog`.`gold`.`gold_roads` Success!\n"
     ]
    }
   ],
   "source": [
    "## Reading from Silver tables\n",
    "df_SilverTraffic = read_SilverTrafficTable(env)\n",
    "df_SilverRoads = read_SilverRoadsTable(env)\n",
    "    \n",
    "## Tranformations     \n",
    "df_vehicle = create_VehicleIntensity(df_SilverTraffic)\n",
    "df_FinalTraffic = create_LoadTime(df_vehicle)\n",
    "df_FinalRoads = create_LoadTime(df_SilverRoads)\n",
    "\n",
    "\n",
    "## Writing to gold tables    \n",
    "write_Traffic_GoldTable(df_FinalTraffic, env)\n",
    "write_Roads_GoldTable(df_FinalRoads, env)"
   ]
  },
  {
   "cell_type": "markdown",
   "metadata": {
    "application/vnd.databricks.v1+cell": {
     "cellMetadata": {
      "byteLimit": 2048000,
      "rowLimit": 10000
     },
     "inputWidgets": {},
     "nuid": "6f9489f7-3e77-4cad-9f7c-7990d54fb9ca",
     "showTitle": false,
     "title": ""
    }
   },
   "source": [
    "### After adding new data"
   ]
  },
  {
   "cell_type": "code",
   "execution_count": 0,
   "metadata": {
    "application/vnd.databricks.v1+cell": {
     "cellMetadata": {
      "byteLimit": 2048000,
      "implicitDf": true,
      "rowLimit": 10000
     },
     "inputWidgets": {},
     "nuid": "fdfa1298-6ac1-45ca-bd02-ff43bfb6966c",
     "showTitle": false,
     "title": ""
    }
   },
   "outputs": [
    {
     "data": {
      "text/html": [
       "<style scoped>\n",
       "  .table-result-container {\n",
       "    max-height: 300px;\n",
       "    overflow: auto;\n",
       "  }\n",
       "  table, th, td {\n",
       "    border: 1px solid black;\n",
       "    border-collapse: collapse;\n",
       "  }\n",
       "  th, td {\n",
       "    padding: 5px;\n",
       "  }\n",
       "  th {\n",
       "    text-align: left;\n",
       "  }\n",
       "</style><div class='table-result-container'><table class='table-result'><thead style='background-color: white'><tr><th>Num of Rows</th></tr></thead><tbody><tr><td>55638</td></tr></tbody></table></div>"
      ]
     },
     "metadata": {
      "application/vnd.databricks.v1+output": {
       "addedWidgets": {},
       "aggData": [],
       "aggError": "",
       "aggOverflow": false,
       "aggSchema": [],
       "aggSeriesLimitReached": false,
       "aggType": "",
       "arguments": {},
       "columnCustomDisplayInfos": {},
       "data": [
        [
         55638
        ]
       ],
       "datasetInfos": [],
       "dbfsResultPath": null,
       "isJsonSchema": true,
       "metadata": {
        "createTempViewForImplicitDf": true,
        "dataframeName": "_sqldf",
        "executionCount": 19
       },
       "overflow": false,
       "plotOptions": {
        "customPlotOptions": {},
        "displayType": "table",
        "pivotAggregation": null,
        "pivotColumns": null,
        "xColumns": null,
        "yColumns": null
       },
       "removedWidgets": [],
       "schema": [
        {
         "metadata": "{}",
         "name": "Num of Rows",
         "type": "\"long\""
        }
       ],
       "type": "table"
      }
     },
     "output_type": "display_data"
    }
   ],
   "source": [
    "%sql\n",
    "\n",
    "SELECT count(*) as `Num of Rows` FROM `dev_catalog`.`gold`.`gold_traffic` Limit 5"
   ]
  },
  {
   "cell_type": "code",
   "execution_count": 0,
   "metadata": {
    "application/vnd.databricks.v1+cell": {
     "cellMetadata": {
      "byteLimit": 2048000,
      "implicitDf": true,
      "rowLimit": 10000
     },
     "inputWidgets": {},
     "nuid": "21285ef9-7aa4-4037-ae45-82aef3b518d0",
     "showTitle": false,
     "title": ""
    }
   },
   "outputs": [
    {
     "data": {
      "text/html": [
       "<style scoped>\n",
       "  .table-result-container {\n",
       "    max-height: 300px;\n",
       "    overflow: auto;\n",
       "  }\n",
       "  table, th, td {\n",
       "    border: 1px solid black;\n",
       "    border-collapse: collapse;\n",
       "  }\n",
       "  th, td {\n",
       "    padding: 5px;\n",
       "  }\n",
       "  th {\n",
       "    text-align: left;\n",
       "  }\n",
       "</style><div class='table-result-container'><table class='table-result'><thead style='background-color: white'><tr><th>Num of Rows</th></tr></thead><tbody><tr><td>76</td></tr></tbody></table></div>"
      ]
     },
     "metadata": {
      "application/vnd.databricks.v1+output": {
       "addedWidgets": {},
       "aggData": [],
       "aggError": "",
       "aggOverflow": false,
       "aggSchema": [],
       "aggSeriesLimitReached": false,
       "aggType": "",
       "arguments": {},
       "columnCustomDisplayInfos": {},
       "data": [
        [
         76
        ]
       ],
       "datasetInfos": [],
       "dbfsResultPath": null,
       "isJsonSchema": true,
       "metadata": {
        "createTempViewForImplicitDf": true,
        "dataframeName": "_sqldf",
        "executionCount": 20
       },
       "overflow": false,
       "plotOptions": {
        "customPlotOptions": {},
        "displayType": "table",
        "pivotAggregation": null,
        "pivotColumns": null,
        "xColumns": null,
        "yColumns": null
       },
       "removedWidgets": [],
       "schema": [
        {
         "metadata": "{}",
         "name": "Num of Rows",
         "type": "\"long\""
        }
       ],
       "type": "table"
      }
     },
     "output_type": "display_data"
    }
   ],
   "source": [
    "%sql\n",
    "\n",
    "SELECT count(*) as `Num of Rows` FROM `dev_catalog`.`gold`.`gold_roads`"
   ]
  },
  {
   "cell_type": "markdown",
   "metadata": {
    "application/vnd.databricks.v1+cell": {
     "cellMetadata": {
      "byteLimit": 2048000,
      "rowLimit": 10000
     },
     "inputWidgets": {},
     "nuid": "85ab07ad-1cac-4a07-bbd0-9de6cddcb6c9",
     "showTitle": false,
     "title": ""
    }
   },
   "source": [
    "### Display small sample of data"
   ]
  },
  {
   "cell_type": "code",
   "execution_count": 0,
   "metadata": {
    "application/vnd.databricks.v1+cell": {
     "cellMetadata": {
      "byteLimit": 2048000,
      "implicitDf": true,
      "rowLimit": 10000
     },
     "inputWidgets": {},
     "nuid": "ea180752-bbf0-4807-bc98-e9f025326aa6",
     "showTitle": false,
     "title": ""
    }
   },
   "outputs": [
    {
     "data": {
      "text/html": [
       "<style scoped>\n",
       "  .table-result-container {\n",
       "    max-height: 300px;\n",
       "    overflow: auto;\n",
       "  }\n",
       "  table, th, td {\n",
       "    border: 1px solid black;\n",
       "    border-collapse: collapse;\n",
       "  }\n",
       "  th, td {\n",
       "    padding: 5px;\n",
       "  }\n",
       "  th {\n",
       "    text-align: left;\n",
       "  }\n",
       "</style><div class='table-result-container'><table class='table-result'><thead style='background-color: white'><tr><th>Record_ID</th><th>Count_point_id</th><th>Direction_of_travel</th><th>Year</th><th>Count_date</th><th>hour</th><th>Region_id</th><th>Region_name</th><th>Local_authority_name</th><th>Road_name</th><th>Road_Category_ID</th><th>Start_junction_road_name</th><th>End_junction_road_name</th><th>Latitude</th><th>Longitude</th><th>Link_length_km</th><th>Pedal_cycles</th><th>Two_wheeled_motor_vehicles</th><th>Cars_and_taxis</th><th>Buses_and_coaches</th><th>LGV_Type</th><th>HGV_Type</th><th>EV_Car</th><th>EV_Bike</th><th>Extract_Time</th><th>Electric_Vehicles_Count</th><th>Motor_Vehicles_Count</th><th>Transformed_Time</th><th>Vehicle_Intensity</th><th>Load_Time</th></tr></thead><tbody><tr><td>18629</td><td>7903</td><td>E</td><td>2014</td><td>6/9/2014 0:00</td><td>15</td><td>7</td><td>East of England</td><td>Hertfordshire</td><td>M25</td><td>1</td><td>20</td><td>21</td><td>51.71406567</td><td>-0.40920569</td><td>4.7</td><td>0</td><td>13</td><td>3491</td><td>12</td><td>1180</td><td>182</td><td>38</td><td>38</td><td>2024-09-27T11:26:31.45Z</td><td>76</td><td>4954</td><td>2024-09-28T03:06:42.99Z</td><td>1054.0425531914893</td><td>2024-09-28T06:00:42.598Z</td></tr><tr><td>18744</td><td>36064</td><td>S</td><td>2014</td><td>5/8/2014 0:00</td><td>11</td><td>11</td><td>North East</td><td>Durham</td><td>A1(M)</td><td>1</td><td>63/A167</td><td>LA Boundary</td><td>54.87638616</td><td>-1.565164323</td><td>1.9</td><td>0</td><td>5</td><td>1744</td><td>8</td><td>384</td><td>85</td><td>27</td><td>27</td><td>2024-09-27T11:26:31.45Z</td><td>54</td><td>2280</td><td>2024-09-28T03:06:42.99Z</td><td>1200.0</td><td>2024-09-28T06:00:42.598Z</td></tr><tr><td>18746</td><td>36064</td><td>N</td><td>2014</td><td>5/8/2014 0:00</td><td>13</td><td>11</td><td>North East</td><td>Durham</td><td>A1(M)</td><td>1</td><td>63/A167</td><td>LA Boundary</td><td>54.87638616</td><td>-1.565164323</td><td>1.9</td><td>0</td><td>4</td><td>1830</td><td>10</td><td>417</td><td>65</td><td>23</td><td>54</td><td>2024-09-27T11:26:31.45Z</td><td>77</td><td>2403</td><td>2024-09-28T03:06:42.99Z</td><td>1264.7368421052631</td><td>2024-09-28T06:00:42.598Z</td></tr><tr><td>18756</td><td>36064</td><td>N</td><td>2014</td><td>5/8/2014 0:00</td><td>11</td><td>11</td><td>North East</td><td>Durham</td><td>A1(M)</td><td>1</td><td>63/A167</td><td>LA Boundary</td><td>54.87638616</td><td>-1.565164323</td><td>1.9</td><td>0</td><td>6</td><td>1846</td><td>16</td><td>440</td><td>72</td><td>28</td><td>37</td><td>2024-09-27T11:26:31.45Z</td><td>65</td><td>2445</td><td>2024-09-28T03:06:42.99Z</td><td>1286.842105263158</td><td>2024-09-28T06:00:42.598Z</td></tr><tr><td>18827</td><td>20511</td><td>N</td><td>2014</td><td>5/20/2014 0:00</td><td>16</td><td>4</td><td>Wales</td><td>Monmouthshire</td><td>A40</td><td>3</td><td>B4293</td><td>A466</td><td>51.80987719</td><td>-2.712139559</td><td>0.8</td><td>0</td><td>1</td><td>920</td><td>14</td><td>202</td><td>23</td><td>9</td><td>0</td><td>2024-09-27T11:26:31.45Z</td><td>9</td><td>1169</td><td>2024-09-28T03:06:42.99Z</td><td>1461.25</td><td>2024-09-28T06:00:42.598Z</td></tr></tbody></table></div>"
      ]
     },
     "metadata": {
      "application/vnd.databricks.v1+output": {
       "addedWidgets": {},
       "aggData": [],
       "aggError": "",
       "aggOverflow": false,
       "aggSchema": [],
       "aggSeriesLimitReached": false,
       "aggType": "",
       "arguments": {},
       "columnCustomDisplayInfos": {},
       "data": [
        [
         18629,
         7903,
         "E",
         2014,
         "6/9/2014 0:00",
         15,
         7,
         "East of England",
         "Hertfordshire",
         "M25",
         1,
         "20",
         "21",
         51.71406567,
         -0.40920569,
         4.7,
         0,
         13,
         3491,
         12,
         1180,
         182,
         38,
         38,
         "2024-09-27T11:26:31.45Z",
         76,
         4954,
         "2024-09-28T03:06:42.99Z",
         1054.0425531914893,
         "2024-09-28T06:00:42.598Z"
        ],
        [
         18744,
         36064,
         "S",
         2014,
         "5/8/2014 0:00",
         11,
         11,
         "North East",
         "Durham",
         "A1(M)",
         1,
         "63/A167",
         "LA Boundary",
         54.87638616,
         -1.565164323,
         1.9,
         0,
         5,
         1744,
         8,
         384,
         85,
         27,
         27,
         "2024-09-27T11:26:31.45Z",
         54,
         2280,
         "2024-09-28T03:06:42.99Z",
         1200,
         "2024-09-28T06:00:42.598Z"
        ],
        [
         18746,
         36064,
         "N",
         2014,
         "5/8/2014 0:00",
         13,
         11,
         "North East",
         "Durham",
         "A1(M)",
         1,
         "63/A167",
         "LA Boundary",
         54.87638616,
         -1.565164323,
         1.9,
         0,
         4,
         1830,
         10,
         417,
         65,
         23,
         54,
         "2024-09-27T11:26:31.45Z",
         77,
         2403,
         "2024-09-28T03:06:42.99Z",
         1264.7368421052631,
         "2024-09-28T06:00:42.598Z"
        ],
        [
         18756,
         36064,
         "N",
         2014,
         "5/8/2014 0:00",
         11,
         11,
         "North East",
         "Durham",
         "A1(M)",
         1,
         "63/A167",
         "LA Boundary",
         54.87638616,
         -1.565164323,
         1.9,
         0,
         6,
         1846,
         16,
         440,
         72,
         28,
         37,
         "2024-09-27T11:26:31.45Z",
         65,
         2445,
         "2024-09-28T03:06:42.99Z",
         1286.842105263158,
         "2024-09-28T06:00:42.598Z"
        ],
        [
         18827,
         20511,
         "N",
         2014,
         "5/20/2014 0:00",
         16,
         4,
         "Wales",
         "Monmouthshire",
         "A40",
         3,
         "B4293",
         "A466",
         51.80987719,
         -2.712139559,
         0.8,
         0,
         1,
         920,
         14,
         202,
         23,
         9,
         0,
         "2024-09-27T11:26:31.45Z",
         9,
         1169,
         "2024-09-28T03:06:42.99Z",
         1461.25,
         "2024-09-28T06:00:42.598Z"
        ]
       ],
       "datasetInfos": [],
       "dbfsResultPath": null,
       "isJsonSchema": true,
       "metadata": {
        "createTempViewForImplicitDf": true,
        "dataframeName": "_sqldf",
        "executionCount": 21
       },
       "overflow": false,
       "plotOptions": {
        "customPlotOptions": {},
        "displayType": "table",
        "pivotAggregation": null,
        "pivotColumns": null,
        "xColumns": null,
        "yColumns": null
       },
       "removedWidgets": [],
       "schema": [
        {
         "metadata": "{}",
         "name": "Record_ID",
         "type": "\"integer\""
        },
        {
         "metadata": "{}",
         "name": "Count_point_id",
         "type": "\"integer\""
        },
        {
         "metadata": "{}",
         "name": "Direction_of_travel",
         "type": "\"string\""
        },
        {
         "metadata": "{}",
         "name": "Year",
         "type": "\"integer\""
        },
        {
         "metadata": "{}",
         "name": "Count_date",
         "type": "\"string\""
        },
        {
         "metadata": "{}",
         "name": "hour",
         "type": "\"integer\""
        },
        {
         "metadata": "{}",
         "name": "Region_id",
         "type": "\"integer\""
        },
        {
         "metadata": "{}",
         "name": "Region_name",
         "type": "\"string\""
        },
        {
         "metadata": "{}",
         "name": "Local_authority_name",
         "type": "\"string\""
        },
        {
         "metadata": "{}",
         "name": "Road_name",
         "type": "\"string\""
        },
        {
         "metadata": "{}",
         "name": "Road_Category_ID",
         "type": "\"integer\""
        },
        {
         "metadata": "{}",
         "name": "Start_junction_road_name",
         "type": "\"string\""
        },
        {
         "metadata": "{}",
         "name": "End_junction_road_name",
         "type": "\"string\""
        },
        {
         "metadata": "{}",
         "name": "Latitude",
         "type": "\"double\""
        },
        {
         "metadata": "{}",
         "name": "Longitude",
         "type": "\"double\""
        },
        {
         "metadata": "{}",
         "name": "Link_length_km",
         "type": "\"double\""
        },
        {
         "metadata": "{}",
         "name": "Pedal_cycles",
         "type": "\"integer\""
        },
        {
         "metadata": "{}",
         "name": "Two_wheeled_motor_vehicles",
         "type": "\"integer\""
        },
        {
         "metadata": "{}",
         "name": "Cars_and_taxis",
         "type": "\"integer\""
        },
        {
         "metadata": "{}",
         "name": "Buses_and_coaches",
         "type": "\"integer\""
        },
        {
         "metadata": "{}",
         "name": "LGV_Type",
         "type": "\"integer\""
        },
        {
         "metadata": "{}",
         "name": "HGV_Type",
         "type": "\"integer\""
        },
        {
         "metadata": "{}",
         "name": "EV_Car",
         "type": "\"integer\""
        },
        {
         "metadata": "{}",
         "name": "EV_Bike",
         "type": "\"integer\""
        },
        {
         "metadata": "{}",
         "name": "Extract_Time",
         "type": "\"timestamp\""
        },
        {
         "metadata": "{}",
         "name": "Electric_Vehicles_Count",
         "type": "\"integer\""
        },
        {
         "metadata": "{}",
         "name": "Motor_Vehicles_Count",
         "type": "\"integer\""
        },
        {
         "metadata": "{}",
         "name": "Transformed_Time",
         "type": "\"timestamp\""
        },
        {
         "metadata": "{}",
         "name": "Vehicle_Intensity",
         "type": "\"double\""
        },
        {
         "metadata": "{}",
         "name": "Load_Time",
         "type": "\"timestamp\""
        }
       ],
       "type": "table"
      }
     },
     "output_type": "display_data"
    }
   ],
   "source": [
    "%sql\n",
    "\n",
    "SELECT * FROM `dev_catalog`.`gold`.`gold_traffic` Limit 5"
   ]
  },
  {
   "cell_type": "code",
   "execution_count": 0,
   "metadata": {
    "application/vnd.databricks.v1+cell": {
     "cellMetadata": {
      "byteLimit": 2048000,
      "implicitDf": true,
      "rowLimit": 10000
     },
     "inputWidgets": {},
     "nuid": "b23df756-c6b7-4709-aceb-d67953abe3d1",
     "showTitle": false,
     "title": ""
    }
   },
   "outputs": [
    {
     "data": {
      "text/html": [
       "<style scoped>\n",
       "  .table-result-container {\n",
       "    max-height: 300px;\n",
       "    overflow: auto;\n",
       "  }\n",
       "  table, th, td {\n",
       "    border: 1px solid black;\n",
       "    border-collapse: collapse;\n",
       "  }\n",
       "  th, td {\n",
       "    padding: 5px;\n",
       "  }\n",
       "  th {\n",
       "    text-align: left;\n",
       "  }\n",
       "</style><div class='table-result-container'><table class='table-result'><thead style='background-color: white'><tr><th>Record_ID</th><th>Count_point_id</th><th>Direction_of_travel</th><th>Year</th><th>Count_date</th><th>hour</th><th>Region_id</th><th>Region_name</th><th>Local_authority_name</th><th>Road_name</th><th>Road_Category_ID</th><th>Start_junction_road_name</th><th>End_junction_road_name</th><th>Latitude</th><th>Longitude</th><th>Link_length_km</th><th>Pedal_cycles</th><th>Two_wheeled_motor_vehicles</th><th>Cars_and_taxis</th><th>Buses_and_coaches</th><th>LGV_Type</th><th>HGV_Type</th><th>EV_Car</th><th>EV_Bike</th><th>Extract_Time</th><th>Electric_Vehicles_Count</th><th>Motor_Vehicles_Count</th><th>Transformed_Time</th><th>Vehicle_Intensity</th><th>Load_Time</th></tr></thead><tbody><tr><td>18629</td><td>7903</td><td>E</td><td>2014</td><td>6/9/2014 0:00</td><td>15</td><td>7</td><td>East of England</td><td>Hertfordshire</td><td>M25</td><td>1</td><td>20</td><td>21</td><td>51.71406567</td><td>-0.40920569</td><td>4.7</td><td>0</td><td>13</td><td>3491</td><td>12</td><td>1180</td><td>182</td><td>38</td><td>38</td><td>2024-09-27T11:26:31.45Z</td><td>76</td><td>4954</td><td>2024-09-28T03:06:42.99Z</td><td>1054.0425531914893</td><td>2024-09-28T06:00:42.598Z</td></tr><tr><td>18744</td><td>36064</td><td>S</td><td>2014</td><td>5/8/2014 0:00</td><td>11</td><td>11</td><td>North East</td><td>Durham</td><td>A1(M)</td><td>1</td><td>63/A167</td><td>LA Boundary</td><td>54.87638616</td><td>-1.565164323</td><td>1.9</td><td>0</td><td>5</td><td>1744</td><td>8</td><td>384</td><td>85</td><td>27</td><td>27</td><td>2024-09-27T11:26:31.45Z</td><td>54</td><td>2280</td><td>2024-09-28T03:06:42.99Z</td><td>1200.0</td><td>2024-09-28T06:00:42.598Z</td></tr><tr><td>18746</td><td>36064</td><td>N</td><td>2014</td><td>5/8/2014 0:00</td><td>13</td><td>11</td><td>North East</td><td>Durham</td><td>A1(M)</td><td>1</td><td>63/A167</td><td>LA Boundary</td><td>54.87638616</td><td>-1.565164323</td><td>1.9</td><td>0</td><td>4</td><td>1830</td><td>10</td><td>417</td><td>65</td><td>23</td><td>54</td><td>2024-09-27T11:26:31.45Z</td><td>77</td><td>2403</td><td>2024-09-28T03:06:42.99Z</td><td>1264.7368421052631</td><td>2024-09-28T06:00:42.598Z</td></tr><tr><td>18756</td><td>36064</td><td>N</td><td>2014</td><td>5/8/2014 0:00</td><td>11</td><td>11</td><td>North East</td><td>Durham</td><td>A1(M)</td><td>1</td><td>63/A167</td><td>LA Boundary</td><td>54.87638616</td><td>-1.565164323</td><td>1.9</td><td>0</td><td>6</td><td>1846</td><td>16</td><td>440</td><td>72</td><td>28</td><td>37</td><td>2024-09-27T11:26:31.45Z</td><td>65</td><td>2445</td><td>2024-09-28T03:06:42.99Z</td><td>1286.842105263158</td><td>2024-09-28T06:00:42.598Z</td></tr><tr><td>18827</td><td>20511</td><td>N</td><td>2014</td><td>5/20/2014 0:00</td><td>16</td><td>4</td><td>Wales</td><td>Monmouthshire</td><td>A40</td><td>3</td><td>B4293</td><td>A466</td><td>51.80987719</td><td>-2.712139559</td><td>0.8</td><td>0</td><td>1</td><td>920</td><td>14</td><td>202</td><td>23</td><td>9</td><td>0</td><td>2024-09-27T11:26:31.45Z</td><td>9</td><td>1169</td><td>2024-09-28T03:06:42.99Z</td><td>1461.25</td><td>2024-09-28T06:00:42.598Z</td></tr></tbody></table></div>"
      ]
     },
     "metadata": {
      "application/vnd.databricks.v1+output": {
       "addedWidgets": {},
       "aggData": [],
       "aggError": "",
       "aggOverflow": false,
       "aggSchema": [],
       "aggSeriesLimitReached": false,
       "aggType": "",
       "arguments": {},
       "columnCustomDisplayInfos": {},
       "data": [
        [
         18629,
         7903,
         "E",
         2014,
         "6/9/2014 0:00",
         15,
         7,
         "East of England",
         "Hertfordshire",
         "M25",
         1,
         "20",
         "21",
         51.71406567,
         -0.40920569,
         4.7,
         0,
         13,
         3491,
         12,
         1180,
         182,
         38,
         38,
         "2024-09-27T11:26:31.45Z",
         76,
         4954,
         "2024-09-28T03:06:42.99Z",
         1054.0425531914893,
         "2024-09-28T06:00:42.598Z"
        ],
        [
         18744,
         36064,
         "S",
         2014,
         "5/8/2014 0:00",
         11,
         11,
         "North East",
         "Durham",
         "A1(M)",
         1,
         "63/A167",
         "LA Boundary",
         54.87638616,
         -1.565164323,
         1.9,
         0,
         5,
         1744,
         8,
         384,
         85,
         27,
         27,
         "2024-09-27T11:26:31.45Z",
         54,
         2280,
         "2024-09-28T03:06:42.99Z",
         1200,
         "2024-09-28T06:00:42.598Z"
        ],
        [
         18746,
         36064,
         "N",
         2014,
         "5/8/2014 0:00",
         13,
         11,
         "North East",
         "Durham",
         "A1(M)",
         1,
         "63/A167",
         "LA Boundary",
         54.87638616,
         -1.565164323,
         1.9,
         0,
         4,
         1830,
         10,
         417,
         65,
         23,
         54,
         "2024-09-27T11:26:31.45Z",
         77,
         2403,
         "2024-09-28T03:06:42.99Z",
         1264.7368421052631,
         "2024-09-28T06:00:42.598Z"
        ],
        [
         18756,
         36064,
         "N",
         2014,
         "5/8/2014 0:00",
         11,
         11,
         "North East",
         "Durham",
         "A1(M)",
         1,
         "63/A167",
         "LA Boundary",
         54.87638616,
         -1.565164323,
         1.9,
         0,
         6,
         1846,
         16,
         440,
         72,
         28,
         37,
         "2024-09-27T11:26:31.45Z",
         65,
         2445,
         "2024-09-28T03:06:42.99Z",
         1286.842105263158,
         "2024-09-28T06:00:42.598Z"
        ],
        [
         18827,
         20511,
         "N",
         2014,
         "5/20/2014 0:00",
         16,
         4,
         "Wales",
         "Monmouthshire",
         "A40",
         3,
         "B4293",
         "A466",
         51.80987719,
         -2.712139559,
         0.8,
         0,
         1,
         920,
         14,
         202,
         23,
         9,
         0,
         "2024-09-27T11:26:31.45Z",
         9,
         1169,
         "2024-09-28T03:06:42.99Z",
         1461.25,
         "2024-09-28T06:00:42.598Z"
        ]
       ],
       "datasetInfos": [],
       "dbfsResultPath": null,
       "isJsonSchema": true,
       "metadata": {
        "createTempViewForImplicitDf": true,
        "dataframeName": "_sqldf",
        "executionCount": 22
       },
       "overflow": false,
       "plotOptions": {
        "customPlotOptions": {},
        "displayType": "table",
        "pivotAggregation": null,
        "pivotColumns": null,
        "xColumns": null,
        "yColumns": null
       },
       "removedWidgets": [],
       "schema": [
        {
         "metadata": "{}",
         "name": "Record_ID",
         "type": "\"integer\""
        },
        {
         "metadata": "{}",
         "name": "Count_point_id",
         "type": "\"integer\""
        },
        {
         "metadata": "{}",
         "name": "Direction_of_travel",
         "type": "\"string\""
        },
        {
         "metadata": "{}",
         "name": "Year",
         "type": "\"integer\""
        },
        {
         "metadata": "{}",
         "name": "Count_date",
         "type": "\"string\""
        },
        {
         "metadata": "{}",
         "name": "hour",
         "type": "\"integer\""
        },
        {
         "metadata": "{}",
         "name": "Region_id",
         "type": "\"integer\""
        },
        {
         "metadata": "{}",
         "name": "Region_name",
         "type": "\"string\""
        },
        {
         "metadata": "{}",
         "name": "Local_authority_name",
         "type": "\"string\""
        },
        {
         "metadata": "{}",
         "name": "Road_name",
         "type": "\"string\""
        },
        {
         "metadata": "{}",
         "name": "Road_Category_ID",
         "type": "\"integer\""
        },
        {
         "metadata": "{}",
         "name": "Start_junction_road_name",
         "type": "\"string\""
        },
        {
         "metadata": "{}",
         "name": "End_junction_road_name",
         "type": "\"string\""
        },
        {
         "metadata": "{}",
         "name": "Latitude",
         "type": "\"double\""
        },
        {
         "metadata": "{}",
         "name": "Longitude",
         "type": "\"double\""
        },
        {
         "metadata": "{}",
         "name": "Link_length_km",
         "type": "\"double\""
        },
        {
         "metadata": "{}",
         "name": "Pedal_cycles",
         "type": "\"integer\""
        },
        {
         "metadata": "{}",
         "name": "Two_wheeled_motor_vehicles",
         "type": "\"integer\""
        },
        {
         "metadata": "{}",
         "name": "Cars_and_taxis",
         "type": "\"integer\""
        },
        {
         "metadata": "{}",
         "name": "Buses_and_coaches",
         "type": "\"integer\""
        },
        {
         "metadata": "{}",
         "name": "LGV_Type",
         "type": "\"integer\""
        },
        {
         "metadata": "{}",
         "name": "HGV_Type",
         "type": "\"integer\""
        },
        {
         "metadata": "{}",
         "name": "EV_Car",
         "type": "\"integer\""
        },
        {
         "metadata": "{}",
         "name": "EV_Bike",
         "type": "\"integer\""
        },
        {
         "metadata": "{}",
         "name": "Extract_Time",
         "type": "\"timestamp\""
        },
        {
         "metadata": "{}",
         "name": "Electric_Vehicles_Count",
         "type": "\"integer\""
        },
        {
         "metadata": "{}",
         "name": "Motor_Vehicles_Count",
         "type": "\"integer\""
        },
        {
         "metadata": "{}",
         "name": "Transformed_Time",
         "type": "\"timestamp\""
        },
        {
         "metadata": "{}",
         "name": "Vehicle_Intensity",
         "type": "\"double\""
        },
        {
         "metadata": "{}",
         "name": "Load_Time",
         "type": "\"timestamp\""
        }
       ],
       "type": "table"
      }
     },
     "output_type": "display_data"
    }
   ],
   "source": [
    "%sql\n",
    "\n",
    "SELECT * FROM `dev_catalog`.`gold`.`gold_traffic` Limit 5"
   ]
  }
 ],
 "metadata": {
  "application/vnd.databricks.v1+notebook": {
   "dashboards": [],
   "environmentMetadata": null,
   "language": "python",
   "notebookMetadata": {
    "mostRecentlyExecutedCommandWithImplicitDF": {
     "commandId": 898371047733172,
     "dataframes": [
      "_sqldf"
     ]
    },
    "pythonIndentUnit": 4
   },
   "notebookName": "6_Gold-Final-Transformations-and-loading",
   "widgets": {
    "env": {
     "currentValue": "dev",
     "nuid": "ce71b9b8-b880-4ab4-b13a-b0fc0582af23",
     "typedWidgetInfo": {
      "autoCreated": false,
      "defaultValue": "",
      "label": "Enter the environment in lower case",
      "name": "env",
      "options": {
       "validationRegex": null,
       "widgetDisplayType": "Text"
      },
      "parameterDataType": "String"
     },
     "widgetInfo": {
      "defaultValue": "",
      "label": "Enter the environment in lower case",
      "name": "env",
      "options": {
       "autoCreated": null,
       "validationRegex": null,
       "widgetType": "text"
      },
      "widgetType": "text"
     }
    }
   }
  },
  "language_info": {
   "name": "python"
  }
 },
 "nbformat": 4,
 "nbformat_minor": 0
}
