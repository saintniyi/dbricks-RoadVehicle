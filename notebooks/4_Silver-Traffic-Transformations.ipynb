{
 "cells": [
  {
   "cell_type": "markdown",
   "metadata": {
    "application/vnd.databricks.v1+cell": {
     "cellMetadata": {
      "byteLimit": 2048000,
      "rowLimit": 10000
     },
     "inputWidgets": {},
     "nuid": "82d5c617-437b-4d21-887c-453adbaa41e8",
     "showTitle": false,
     "title": ""
    }
   },
   "source": [
    "### Get environment name from widget and assign to variable "
   ]
  },
  {
   "cell_type": "code",
   "execution_count": 0,
   "metadata": {
    "application/vnd.databricks.v1+cell": {
     "cellMetadata": {
      "byteLimit": 2048000,
      "rowLimit": 10000
     },
     "inputWidgets": {},
     "nuid": "cb8f49c7-0091-4a4f-9fbb-314f81bab34e",
     "showTitle": false,
     "title": ""
    }
   },
   "outputs": [],
   "source": [
    "dbutils.widgets.text(name=\"env\", defaultValue='', label='Enter the environment in lower case')\n",
    "env = dbutils.widgets.get(\"env\")"
   ]
  },
  {
   "cell_type": "markdown",
   "metadata": {
    "application/vnd.databricks.v1+cell": {
     "cellMetadata": {
      "byteLimit": 2048000,
      "rowLimit": 10000
     },
     "inputWidgets": {},
     "nuid": "89b98abc-a008-45de-9c76-6079b7042f9f",
     "showTitle": false,
     "title": ""
    }
   },
   "source": [
    "\n",
    "<br>\n",
    "\n",
    "### Call common notebook to access shared variables and methods"
   ]
  },
  {
   "cell_type": "code",
   "execution_count": 0,
   "metadata": {
    "application/vnd.databricks.v1+cell": {
     "cellMetadata": {
      "byteLimit": 2048000,
      "rowLimit": 10000
     },
     "inputWidgets": {},
     "nuid": "ca96e816-54a0-4c5c-a652-a7b4196b18f4",
     "showTitle": false,
     "title": ""
    }
   },
   "outputs": [],
   "source": [
    "%run \"/Workspace/Users/yen#ext#@yenyahoo.onmicrosoft.com/3_Common\""
   ]
  },
  {
   "cell_type": "markdown",
   "metadata": {
    "application/vnd.databricks.v1+cell": {
     "cellMetadata": {
      "byteLimit": 2048000,
      "rowLimit": 10000
     },
     "inputWidgets": {},
     "nuid": "844a6639-6657-466f-b72b-7104ba0a18fc",
     "showTitle": false,
     "title": ""
    }
   },
   "source": [
    "\n",
    "### Reading the data from bronze raw_traffic Table"
   ]
  },
  {
   "cell_type": "code",
   "execution_count": 0,
   "metadata": {
    "application/vnd.databricks.v1+cell": {
     "cellMetadata": {
      "byteLimit": 2048000,
      "rowLimit": 10000
     },
     "inputWidgets": {},
     "nuid": "c78c455e-47a7-464c-ba8a-ae98100a30a5",
     "showTitle": false,
     "title": ""
    }
   },
   "outputs": [],
   "source": [
    "\n",
    "def read_BronzeTrafficTable(environment):\n",
    "    print('Reading the Bronze Table Data : ',end='')\n",
    "    df_bronzeTraffic = (spark.readStream\n",
    "                    .table(f\"`{environment}_catalog`.`bronze`.raw_traffic\")\n",
    "                    )\n",
    "    print(f'Reading {environment}_catalog.bronze.raw_traffic Success!')\n",
    "    return df_bronzeTraffic"
   ]
  },
  {
   "cell_type": "markdown",
   "metadata": {
    "application/vnd.databricks.v1+cell": {
     "cellMetadata": {
      "byteLimit": 2048000,
      "rowLimit": 10000
     },
     "inputWidgets": {},
     "nuid": "99cde0c9-f4f7-4b62-9413-a8df55a217a9",
     "showTitle": false,
     "title": ""
    }
   },
   "source": [
    "\n",
    "### Getting count of Electric vehicles by creating new column\n"
   ]
  },
  {
   "cell_type": "code",
   "execution_count": 0,
   "metadata": {
    "application/vnd.databricks.v1+cell": {
     "cellMetadata": {
      "byteLimit": 2048000,
      "rowLimit": 10000
     },
     "inputWidgets": {},
     "nuid": "05f15a1e-cdab-4c5f-97b9-ab01f34e3a5c",
     "showTitle": false,
     "title": ""
    }
   },
   "outputs": [],
   "source": [
    "def ev_Count(df):\n",
    "\n",
    "    print('Creating Electric Vehicles Count Column : ', end='')\n",
    "\n",
    "    from pyspark.sql.functions import col\n",
    "\n",
    "    df_ev = df.withColumn('Electric_Vehicles_Count', \n",
    "                          col('EV_Car') + col('EV_Bike')\n",
    "                          ) \n",
    "    \n",
    "    print('Success!! ')\n",
    "\n",
    "    return df_ev"
   ]
  },
  {
   "cell_type": "markdown",
   "metadata": {
    "application/vnd.databricks.v1+cell": {
     "cellMetadata": {
      "byteLimit": 2048000,
      "rowLimit": 10000
     },
     "inputWidgets": {},
     "nuid": "f17e6f14-9dfb-4da3-948c-179d08584668",
     "showTitle": false,
     "title": ""
    }
   },
   "source": [
    "\n",
    "### Creating columns to get Count of all motor vehicles\n"
   ]
  },
  {
   "cell_type": "code",
   "execution_count": 0,
   "metadata": {
    "application/vnd.databricks.v1+cell": {
     "cellMetadata": {
      "byteLimit": 2048000,
      "rowLimit": 10000
     },
     "inputWidgets": {},
     "nuid": "47e17ec0-de2f-4a27-bb31-731ab31d6e08",
     "showTitle": false,
     "title": ""
    }
   },
   "outputs": [],
   "source": [
    "def Motor_Count(df):\n",
    "\n",
    "    print('Creating All Motor Vehicles Count Column : ', end='')\n",
    "\n",
    "    from pyspark.sql.functions import col\n",
    "\n",
    "    df_motor = df.withColumn('Motor_Vehicles_Count',\n",
    "                            col('Electric_Vehicles_Count') + col('Two_wheeled_motor_vehicles') + col('Cars_and_taxis') + col('Buses_and_coaches') + col('LGV_Type') + col('HGV_Type')\n",
    "                            )\n",
    "    \n",
    "    print('Success!! ')\n",
    "    \n",
    "    return df_motor"
   ]
  },
  {
   "cell_type": "markdown",
   "metadata": {
    "application/vnd.databricks.v1+cell": {
     "cellMetadata": {
      "byteLimit": 2048000,
      "rowLimit": 10000
     },
     "inputWidgets": {},
     "nuid": "0b48f494-c505-4d4d-bc8e-000f7199818f",
     "showTitle": false,
     "title": ""
    }
   },
   "source": [
    "\n",
    "### Creating Transformed Time column"
   ]
  },
  {
   "cell_type": "code",
   "execution_count": 0,
   "metadata": {
    "application/vnd.databricks.v1+cell": {
     "cellMetadata": {
      "byteLimit": 2048000,
      "rowLimit": 10000
     },
     "inputWidgets": {},
     "nuid": "bce2aa6e-5ae5-49ec-8341-abff10c9ff1a",
     "showTitle": false,
     "title": ""
    }
   },
   "outputs": [],
   "source": [
    "def create_TransformedTime(df):\n",
    "\n",
    "    from pyspark.sql.functions import current_timestamp\n",
    "\n",
    "    print('Creating Transformed Time column : ', end='')\n",
    "\n",
    "    df_timestamp = df.withColumn('Transformed_Time',\n",
    "                      current_timestamp()\n",
    "                      )\n",
    "    \n",
    "    print('Success!!')\n",
    "    \n",
    "    return df_timestamp"
   ]
  },
  {
   "cell_type": "markdown",
   "metadata": {
    "application/vnd.databricks.v1+cell": {
     "cellMetadata": {
      "byteLimit": 2048000,
      "rowLimit": 10000
     },
     "inputWidgets": {},
     "nuid": "157f2e96-5011-445f-a003-36ddc09135e4",
     "showTitle": false,
     "title": ""
    }
   },
   "source": [
    "\n",
    "### Writing the Transformed data to Silver_Traffic Table"
   ]
  },
  {
   "cell_type": "code",
   "execution_count": 0,
   "metadata": {
    "application/vnd.databricks.v1+cell": {
     "cellMetadata": {
      "byteLimit": 2048000,
      "rowLimit": 10000
     },
     "inputWidgets": {},
     "nuid": "bc590ef3-e03a-4402-beff-197c8bb663ef",
     "showTitle": false,
     "title": ""
    }
   },
   "outputs": [],
   "source": [
    "def write_Traffic_SilverTable(StreamingDF,environment):\n",
    "\n",
    "    print('Writing the silver_traffic Data : ', end='') \n",
    "\n",
    "    write_StreamSilver = (StreamingDF.writeStream\n",
    "                .format('delta')\n",
    "                .option('checkpointLocation', checkpoint + \"/SilverTrafficLoad/Checkpt/\")\n",
    "                .outputMode('append')\n",
    "                .queryName(\"SilverTrafficWriteStream\")\n",
    "                .trigger(availableNow=True)\n",
    "                .toTable(f\"`{environment}_catalog`.`silver`.`silver_traffic`\"))\n",
    "    \n",
    "    write_StreamSilver.awaitTermination()\n",
    "    \n",
    "    print(f'Writing `{environment}_catalog`.`silver`.`silver_traffic` Success!')"
   ]
  },
  {
   "cell_type": "markdown",
   "metadata": {
    "application/vnd.databricks.v1+cell": {
     "cellMetadata": {
      "byteLimit": 2048000,
      "rowLimit": 10000
     },
     "inputWidgets": {},
     "nuid": "bfe82aac-c041-4213-a164-9fe954948c33",
     "showTitle": false,
     "title": ""
    }
   },
   "source": [
    "### Before adding new data"
   ]
  },
  {
   "cell_type": "code",
   "execution_count": 0,
   "metadata": {
    "application/vnd.databricks.v1+cell": {
     "cellMetadata": {
      "byteLimit": 2048000,
      "implicitDf": true,
      "rowLimit": 10000
     },
     "inputWidgets": {},
     "nuid": "62a5a854-7f6e-496a-94f5-9d4f5e60cbb5",
     "showTitle": false,
     "title": ""
    }
   },
   "outputs": [
    {
     "data": {
      "text/html": [
       "<style scoped>\n",
       "  .table-result-container {\n",
       "    max-height: 300px;\n",
       "    overflow: auto;\n",
       "  }\n",
       "  table, th, td {\n",
       "    border: 1px solid black;\n",
       "    border-collapse: collapse;\n",
       "  }\n",
       "  th, td {\n",
       "    padding: 5px;\n",
       "  }\n",
       "  th {\n",
       "    text-align: left;\n",
       "  }\n",
       "</style><div class='table-result-container'><table class='table-result'><thead style='background-color: white'><tr><th>Num of Rows</th></tr></thead><tbody><tr><td>55638</td></tr></tbody></table></div>"
      ]
     },
     "metadata": {
      "application/vnd.databricks.v1+output": {
       "addedWidgets": {},
       "aggData": [],
       "aggError": "",
       "aggOverflow": false,
       "aggSchema": [],
       "aggSeriesLimitReached": false,
       "aggType": "",
       "arguments": {},
       "columnCustomDisplayInfos": {},
       "data": [
        [
         55638
        ]
       ],
       "datasetInfos": [],
       "dbfsResultPath": null,
       "isJsonSchema": true,
       "metadata": {},
       "overflow": false,
       "plotOptions": {
        "customPlotOptions": {},
        "displayType": "table",
        "pivotAggregation": null,
        "pivotColumns": null,
        "xColumns": null,
        "yColumns": null
       },
       "removedWidgets": [],
       "schema": [
        {
         "metadata": "{}",
         "name": "Num of Rows",
         "type": "\"long\""
        }
       ],
       "type": "table"
      }
     },
     "output_type": "display_data"
    }
   ],
   "source": [
    "# Check if the table exists\n",
    "tableExists = spark._jsparkSession.catalog().tableExists(f\"{env}_catalog.silver.silver_traffic\")\n",
    "\n",
    "if tableExists:\n",
    "    # If the table exists, execute the query\n",
    "    query = f\"SELECT count(*) as `Num of Rows` FROM `{env}_catalog`.`silver`.`silver_traffic`\"\n",
    "    df = spark.sql(query)\n",
    "    display(df)\n",
    "else:\n",
    "    print(\"Table does not exist.\")"
   ]
  },
  {
   "cell_type": "markdown",
   "metadata": {
    "application/vnd.databricks.v1+cell": {
     "cellMetadata": {
      "byteLimit": 2048000,
      "rowLimit": 10000
     },
     "inputWidgets": {},
     "nuid": "02ac392e-e838-46df-90b4-a14586f6e599",
     "showTitle": false,
     "title": ""
    }
   },
   "source": [
    "## Calling all the functions"
   ]
  },
  {
   "cell_type": "code",
   "execution_count": 0,
   "metadata": {
    "application/vnd.databricks.v1+cell": {
     "cellMetadata": {
      "byteLimit": 2048000,
      "rowLimit": 10000
     },
     "inputWidgets": {},
     "nuid": "95e40566-fb31-4af2-a517-17f734ded95a",
     "showTitle": false,
     "title": ""
    }
   },
   "outputs": [
    {
     "name": "stdout",
     "output_type": "stream",
     "text": [
      "Reading the Bronze Table Data : Reading dev_catalog.bronze.raw_traffic Success!\n",
      "Removing Duplicate values: Success!\n",
      "Replacing NULLs of String column DataType with \"Unknown\": Success!\n",
      "Replacing NULLs of Numeric column DataType with \"0\":  Success!\n",
      "Creating Electric Vehicles Count Column : Success!! \n",
      "Creating All Motor Vehicles Count Column : Success!! \n",
      "Creating Transformed Time column : Success!!\n",
      "Writing the silver_traffic Data : Writing `dev_catalog`.`silver`.`silver_traffic` Success!\n"
     ]
    }
   ],
   "source": [
    "## Reading the bronze traffic data\n",
    "df_trafficdata = read_BronzeTrafficTable(env)\n",
    "\n",
    "# To remove duplicate rows\n",
    "df_noDups = remove_Dups(df_trafficdata)\n",
    "\n",
    "# Get dataframe columns name to a list\n",
    "Allcolumns = df_noDups.schema.names\n",
    "\n",
    "# Replace any NULL values in strings and numeric datatypes\n",
    "df_noNulls = handle_NULLs(df_noDups, Allcolumns)\n",
    "\n",
    "## To get the total EV_Count\n",
    "df_ev = ev_Count(df_noNulls)\n",
    "\n",
    "## To get the Total Motor vehicle count\n",
    "df_motor = Motor_Count(df_ev)\n",
    "\n",
    "## Calling Transformed time function\n",
    "df_final = create_TransformedTime(df_motor)\n",
    "\n",
    "## Writing to silver_traffic\n",
    "write_Traffic_SilverTable(df_final, env)"
   ]
  },
  {
   "cell_type": "markdown",
   "metadata": {
    "application/vnd.databricks.v1+cell": {
     "cellMetadata": {
      "byteLimit": 2048000,
      "rowLimit": 10000
     },
     "inputWidgets": {},
     "nuid": "0ef5f0dc-6f65-47ce-92a1-6a3602382663",
     "showTitle": false,
     "title": ""
    }
   },
   "source": [
    "### After adding new data"
   ]
  },
  {
   "cell_type": "code",
   "execution_count": 0,
   "metadata": {
    "application/vnd.databricks.v1+cell": {
     "cellMetadata": {
      "byteLimit": 2048000,
      "implicitDf": true,
      "rowLimit": 10000
     },
     "inputWidgets": {},
     "nuid": "161f737c-817b-4d58-9b70-d88884fab838",
     "showTitle": false,
     "title": ""
    }
   },
   "outputs": [
    {
     "data": {
      "text/html": [
       "<style scoped>\n",
       "  .table-result-container {\n",
       "    max-height: 300px;\n",
       "    overflow: auto;\n",
       "  }\n",
       "  table, th, td {\n",
       "    border: 1px solid black;\n",
       "    border-collapse: collapse;\n",
       "  }\n",
       "  th, td {\n",
       "    padding: 5px;\n",
       "  }\n",
       "  th {\n",
       "    text-align: left;\n",
       "  }\n",
       "</style><div class='table-result-container'><table class='table-result'><thead style='background-color: white'><tr><th>Num of Rows</th></tr></thead><tbody><tr><td>55638</td></tr></tbody></table></div>"
      ]
     },
     "metadata": {
      "application/vnd.databricks.v1+output": {
       "addedWidgets": {},
       "aggData": [],
       "aggError": "",
       "aggOverflow": false,
       "aggSchema": [],
       "aggSeriesLimitReached": false,
       "aggType": "",
       "arguments": {},
       "columnCustomDisplayInfos": {},
       "data": [
        [
         55638
        ]
       ],
       "datasetInfos": [],
       "dbfsResultPath": null,
       "isJsonSchema": true,
       "metadata": {
        "createTempViewForImplicitDf": true,
        "dataframeName": "_sqldf",
        "executionCount": 117
       },
       "overflow": false,
       "plotOptions": {
        "customPlotOptions": {},
        "displayType": "table",
        "pivotAggregation": null,
        "pivotColumns": null,
        "xColumns": null,
        "yColumns": null
       },
       "removedWidgets": [],
       "schema": [
        {
         "metadata": "{}",
         "name": "Num of Rows",
         "type": "\"long\""
        }
       ],
       "type": "table"
      }
     },
     "output_type": "display_data"
    }
   ],
   "source": [
    " %sql\n",
    "\n",
    "SELECT count(*) as `Num of Rows` FROM `dev_catalog`.`silver`.`silver_traffic`"
   ]
  },
  {
   "cell_type": "markdown",
   "metadata": {
    "application/vnd.databricks.v1+cell": {
     "cellMetadata": {
      "byteLimit": 2048000,
      "rowLimit": 10000
     },
     "inputWidgets": {},
     "nuid": "0d34fcde-abff-4492-820a-f5f89df70feb",
     "showTitle": false,
     "title": ""
    }
   },
   "source": [
    "### Display small sample of data"
   ]
  },
  {
   "cell_type": "code",
   "execution_count": 0,
   "metadata": {
    "application/vnd.databricks.v1+cell": {
     "cellMetadata": {
      "byteLimit": 2048000,
      "implicitDf": true,
      "rowLimit": 10000
     },
     "inputWidgets": {},
     "nuid": "fe733035-deca-4104-903c-8e4749e156e3",
     "showTitle": false,
     "title": ""
    }
   },
   "outputs": [
    {
     "data": {
      "text/html": [
       "<style scoped>\n",
       "  .table-result-container {\n",
       "    max-height: 300px;\n",
       "    overflow: auto;\n",
       "  }\n",
       "  table, th, td {\n",
       "    border: 1px solid black;\n",
       "    border-collapse: collapse;\n",
       "  }\n",
       "  th, td {\n",
       "    padding: 5px;\n",
       "  }\n",
       "  th {\n",
       "    text-align: left;\n",
       "  }\n",
       "</style><div class='table-result-container'><table class='table-result'><thead style='background-color: white'><tr><th>Record_ID</th><th>Count_point_id</th><th>Direction_of_travel</th><th>Year</th><th>Count_date</th><th>hour</th><th>Region_id</th><th>Region_name</th><th>Local_authority_name</th><th>Road_name</th><th>Road_Category_ID</th><th>Start_junction_road_name</th><th>End_junction_road_name</th><th>Latitude</th><th>Longitude</th><th>Link_length_km</th><th>Pedal_cycles</th><th>Two_wheeled_motor_vehicles</th><th>Cars_and_taxis</th><th>Buses_and_coaches</th><th>LGV_Type</th><th>HGV_Type</th><th>EV_Car</th><th>EV_Bike</th><th>Extract_Time</th><th>Electric_Vehicles_Count</th><th>Motor_Vehicles_Count</th><th>Transformed_Time</th></tr></thead><tbody><tr><td>37258</td><td>83012</td><td>S</td><td>2014</td><td>6/24/2014 0:00</td><td>18</td><td>3</td><td>Scotland</td><td>Glasgow City</td><td>A728</td><td>4</td><td>A730</td><td>A749</td><td>55.83986935</td><td>-4.22892245</td><td>1.1</td><td>21</td><td>1</td><td>220</td><td>0</td><td>28</td><td>2</td><td>1</td><td>2</td><td>2024-09-28T03:16:27.027Z</td><td>3</td><td>254</td><td>2024-09-28T03:19:32.537Z</td></tr><tr><td>37291</td><td>84016</td><td>N</td><td>2014</td><td>10/2/2014 0:00</td><td>15</td><td>10</td><td>West Midlands</td><td>Warwickshire</td><td>M6(T)</td><td>1</td><td>M6 Toll and M42 Interchange south of Coleshill</td><td>M6 Toll and M42 Interchange south of Gilson - Junction 8</td><td>52.49685234</td><td>-1.717616583</td><td>1.1</td><td>0</td><td>21</td><td>3424</td><td>9</td><td>620</td><td>172</td><td>34</td><td>38</td><td>2024-09-28T03:16:27.027Z</td><td>72</td><td>4318</td><td>2024-09-28T03:19:32.537Z</td></tr><tr><td>37297</td><td>930183</td><td>E</td><td>2014</td><td>9/9/2014 0:00</td><td>9</td><td>3</td><td>Scotland</td><td>City of Edinburgh</td><td>B6415</td><td>5</td><td>Unknown</td><td>Unknown</td><td>55.95072928</td><td>-3.106343827</td><td>0.0</td><td>4</td><td>2</td><td>305</td><td>13</td><td>35</td><td>5</td><td>0</td><td>0</td><td>2024-09-28T03:16:27.027Z</td><td>0</td><td>360</td><td>2024-09-28T03:19:32.537Z</td></tr><tr><td>37439</td><td>80849</td><td>W</td><td>2014</td><td>9/18/2014 0:00</td><td>9</td><td>9</td><td>South East</td><td>Portsmouth</td><td>A2030</td><td>4</td><td>MARKETWAY</td><td>HOLBROOK ROAD</td><td>50.80316638</td><td>-1.084491131</td><td>0.4</td><td>23</td><td>5</td><td>306</td><td>24</td><td>30</td><td>3</td><td>0</td><td>1</td><td>2024-09-28T03:16:27.027Z</td><td>1</td><td>369</td><td>2024-09-28T03:19:32.537Z</td></tr><tr><td>37656</td><td>56029</td><td>S</td><td>2014</td><td>7/4/2014 0:00</td><td>16</td><td>6</td><td>London</td><td>Redbridge</td><td>A406</td><td>4</td><td>Centre point M11 Slip roads</td><td>A12 redbridge r/abt</td><td>51.58130058</td><td>0.040520421</td><td>1.2</td><td>0</td><td>37</td><td>3229</td><td>20</td><td>695</td><td>177</td><td>13</td><td>17</td><td>2024-09-28T03:16:27.027Z</td><td>30</td><td>4188</td><td>2024-09-28T03:19:32.537Z</td></tr></tbody></table></div>"
      ]
     },
     "metadata": {
      "application/vnd.databricks.v1+output": {
       "addedWidgets": {},
       "aggData": [],
       "aggError": "",
       "aggOverflow": false,
       "aggSchema": [],
       "aggSeriesLimitReached": false,
       "aggType": "",
       "arguments": {},
       "columnCustomDisplayInfos": {},
       "data": [
        [
         37258,
         83012,
         "S",
         2014,
         "6/24/2014 0:00",
         18,
         3,
         "Scotland",
         "Glasgow City",
         "A728",
         4,
         "A730",
         "A749",
         55.83986935,
         -4.22892245,
         1.1,
         21,
         1,
         220,
         0,
         28,
         2,
         1,
         2,
         "2024-09-28T03:16:27.027Z",
         3,
         254,
         "2024-09-28T03:19:32.537Z"
        ],
        [
         37291,
         84016,
         "N",
         2014,
         "10/2/2014 0:00",
         15,
         10,
         "West Midlands",
         "Warwickshire",
         "M6(T)",
         1,
         "M6 Toll and M42 Interchange south of Coleshill",
         "M6 Toll and M42 Interchange south of Gilson - Junction 8",
         52.49685234,
         -1.717616583,
         1.1,
         0,
         21,
         3424,
         9,
         620,
         172,
         34,
         38,
         "2024-09-28T03:16:27.027Z",
         72,
         4318,
         "2024-09-28T03:19:32.537Z"
        ],
        [
         37297,
         930183,
         "E",
         2014,
         "9/9/2014 0:00",
         9,
         3,
         "Scotland",
         "City of Edinburgh",
         "B6415",
         5,
         "Unknown",
         "Unknown",
         55.95072928,
         -3.106343827,
         0,
         4,
         2,
         305,
         13,
         35,
         5,
         0,
         0,
         "2024-09-28T03:16:27.027Z",
         0,
         360,
         "2024-09-28T03:19:32.537Z"
        ],
        [
         37439,
         80849,
         "W",
         2014,
         "9/18/2014 0:00",
         9,
         9,
         "South East",
         "Portsmouth",
         "A2030",
         4,
         "MARKETWAY",
         "HOLBROOK ROAD",
         50.80316638,
         -1.084491131,
         0.4,
         23,
         5,
         306,
         24,
         30,
         3,
         0,
         1,
         "2024-09-28T03:16:27.027Z",
         1,
         369,
         "2024-09-28T03:19:32.537Z"
        ],
        [
         37656,
         56029,
         "S",
         2014,
         "7/4/2014 0:00",
         16,
         6,
         "London",
         "Redbridge",
         "A406",
         4,
         "Centre point M11 Slip roads",
         "A12 redbridge r/abt",
         51.58130058,
         0.040520421,
         1.2,
         0,
         37,
         3229,
         20,
         695,
         177,
         13,
         17,
         "2024-09-28T03:16:27.027Z",
         30,
         4188,
         "2024-09-28T03:19:32.537Z"
        ]
       ],
       "datasetInfos": [],
       "dbfsResultPath": null,
       "isJsonSchema": true,
       "metadata": {
        "createTempViewForImplicitDf": true,
        "dataframeName": "_sqldf",
        "executionCount": 118
       },
       "overflow": false,
       "plotOptions": {
        "customPlotOptions": {},
        "displayType": "table",
        "pivotAggregation": null,
        "pivotColumns": null,
        "xColumns": null,
        "yColumns": null
       },
       "removedWidgets": [],
       "schema": [
        {
         "metadata": "{}",
         "name": "Record_ID",
         "type": "\"integer\""
        },
        {
         "metadata": "{}",
         "name": "Count_point_id",
         "type": "\"integer\""
        },
        {
         "metadata": "{}",
         "name": "Direction_of_travel",
         "type": "\"string\""
        },
        {
         "metadata": "{}",
         "name": "Year",
         "type": "\"integer\""
        },
        {
         "metadata": "{}",
         "name": "Count_date",
         "type": "\"string\""
        },
        {
         "metadata": "{}",
         "name": "hour",
         "type": "\"integer\""
        },
        {
         "metadata": "{}",
         "name": "Region_id",
         "type": "\"integer\""
        },
        {
         "metadata": "{}",
         "name": "Region_name",
         "type": "\"string\""
        },
        {
         "metadata": "{}",
         "name": "Local_authority_name",
         "type": "\"string\""
        },
        {
         "metadata": "{}",
         "name": "Road_name",
         "type": "\"string\""
        },
        {
         "metadata": "{}",
         "name": "Road_Category_ID",
         "type": "\"integer\""
        },
        {
         "metadata": "{}",
         "name": "Start_junction_road_name",
         "type": "\"string\""
        },
        {
         "metadata": "{}",
         "name": "End_junction_road_name",
         "type": "\"string\""
        },
        {
         "metadata": "{}",
         "name": "Latitude",
         "type": "\"double\""
        },
        {
         "metadata": "{}",
         "name": "Longitude",
         "type": "\"double\""
        },
        {
         "metadata": "{}",
         "name": "Link_length_km",
         "type": "\"double\""
        },
        {
         "metadata": "{}",
         "name": "Pedal_cycles",
         "type": "\"integer\""
        },
        {
         "metadata": "{}",
         "name": "Two_wheeled_motor_vehicles",
         "type": "\"integer\""
        },
        {
         "metadata": "{}",
         "name": "Cars_and_taxis",
         "type": "\"integer\""
        },
        {
         "metadata": "{}",
         "name": "Buses_and_coaches",
         "type": "\"integer\""
        },
        {
         "metadata": "{}",
         "name": "LGV_Type",
         "type": "\"integer\""
        },
        {
         "metadata": "{}",
         "name": "HGV_Type",
         "type": "\"integer\""
        },
        {
         "metadata": "{}",
         "name": "EV_Car",
         "type": "\"integer\""
        },
        {
         "metadata": "{}",
         "name": "EV_Bike",
         "type": "\"integer\""
        },
        {
         "metadata": "{}",
         "name": "Extract_Time",
         "type": "\"timestamp\""
        },
        {
         "metadata": "{}",
         "name": "Electric_Vehicles_Count",
         "type": "\"integer\""
        },
        {
         "metadata": "{}",
         "name": "Motor_Vehicles_Count",
         "type": "\"integer\""
        },
        {
         "metadata": "{}",
         "name": "Transformed_Time",
         "type": "\"timestamp\""
        }
       ],
       "type": "table"
      }
     },
     "output_type": "display_data"
    }
   ],
   "source": [
    "%sql\n",
    "\n",
    "SELECT * FROM `dev_catalog`.`silver`.`silver_traffic` Limit 5"
   ]
  }
 ],
 "metadata": {
  "application/vnd.databricks.v1+notebook": {
   "dashboards": [],
   "environmentMetadata": null,
   "language": "python",
   "notebookMetadata": {
    "mostRecentlyExecutedCommandWithImplicitDF": {
     "commandId": 3191140395212461,
     "dataframes": [
      "_sqldf"
     ]
    },
    "pythonIndentUnit": 4
   },
   "notebookName": "4_Silver-Traffic-Transformations",
   "widgets": {
    "env": {
     "currentValue": "dev",
     "nuid": "aad65f65-3e66-4b2b-8ada-0e26a63ae2d1",
     "typedWidgetInfo": {
      "autoCreated": false,
      "defaultValue": "",
      "label": "Enter the environment in lower case",
      "name": "env",
      "options": {
       "validationRegex": null,
       "widgetDisplayType": "Text"
      },
      "parameterDataType": "String"
     },
     "widgetInfo": {
      "defaultValue": "",
      "label": "Enter the environment in lower case",
      "name": "env",
      "options": {
       "autoCreated": null,
       "validationRegex": null,
       "widgetType": "text"
      },
      "widgetType": "text"
     }
    }
   }
  },
  "language_info": {
   "name": "python"
  }
 },
 "nbformat": 4,
 "nbformat_minor": 0
}
