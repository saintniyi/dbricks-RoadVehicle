{
 "cells": [
  {
   "cell_type": "markdown",
   "metadata": {
    "application/vnd.databricks.v1+cell": {
     "cellMetadata": {
      "byteLimit": 2048000,
      "rowLimit": 10000
     },
     "inputWidgets": {},
     "nuid": "c86240f4-285b-4f39-b396-58042117bd71",
     "showTitle": false,
     "title": ""
    }
   },
   "source": [
    "### Get environment name from widget and assign to variable "
   ]
  },
  {
   "cell_type": "code",
   "execution_count": 0,
   "metadata": {
    "application/vnd.databricks.v1+cell": {
     "cellMetadata": {
      "byteLimit": 2048000,
      "rowLimit": 10000
     },
     "inputWidgets": {},
     "nuid": "c592fafc-4c90-4386-b1e6-e6ac1f69bcbc",
     "showTitle": false,
     "title": ""
    }
   },
   "outputs": [],
   "source": [
    "dbutils.widgets.text(name=\"env\", defaultValue='', label='Enter the environment in lower case')\n",
    "env = dbutils.widgets.get(\"env\")"
   ]
  },
  {
   "cell_type": "markdown",
   "metadata": {
    "application/vnd.databricks.v1+cell": {
     "cellMetadata": {
      "byteLimit": 2048000,
      "rowLimit": 10000
     },
     "inputWidgets": {},
     "nuid": "9b76a140-a5e7-41d4-97ed-954f80ec736c",
     "showTitle": false,
     "title": ""
    }
   },
   "source": [
    "\n",
    "<br>\n",
    "\n",
    "### Call common notebook to access shared variables and methods"
   ]
  },
  {
   "cell_type": "code",
   "execution_count": 0,
   "metadata": {
    "application/vnd.databricks.v1+cell": {
     "cellMetadata": {
      "byteLimit": 2048000,
      "rowLimit": 10000
     },
     "inputWidgets": {},
     "nuid": "0c5531dd-a836-432b-84c8-2e6b1232d297",
     "showTitle": false,
     "title": ""
    },
    "jupyter": {
     "outputs_hidden": true
    }
   },
   "outputs": [],
   "source": [
    "%run \"/Workspace/Users/yen#ext#@yenyahoo.onmicrosoft.com/3_Common\""
   ]
  },
  {
   "cell_type": "markdown",
   "metadata": {
    "application/vnd.databricks.v1+cell": {
     "cellMetadata": {
      "byteLimit": 2048000,
      "rowLimit": 10000
     },
     "inputWidgets": {},
     "nuid": "e16554f8-9833-4254-9572-72bd09cc95b6",
     "showTitle": false,
     "title": ""
    }
   },
   "source": [
    "\n",
    "### Reading the data from bronze raw_roads Table"
   ]
  },
  {
   "cell_type": "code",
   "execution_count": 0,
   "metadata": {
    "application/vnd.databricks.v1+cell": {
     "cellMetadata": {
      "byteLimit": 2048000,
      "rowLimit": 10000
     },
     "inputWidgets": {},
     "nuid": "9f805c43-465b-4802-8ece-80a98edb5a7c",
     "showTitle": false,
     "title": ""
    }
   },
   "outputs": [],
   "source": [
    "\n",
    "def read_BronzeRoadsTable(environment):\n",
    "    print('Reading the Bronze Table raw_roads Data : ',end='')\n",
    "    df_bronzeRoads = (spark.readStream\n",
    "                    .table(f\"`{environment}_catalog`.`bronze`.raw_roads\")\n",
    "                    )\n",
    "    print(f'Reading {environment}_catalog.bronze.raw_roads Success!')\n",
    "    print(\"**********************************\")\n",
    "    return df_bronzeRoads"
   ]
  },
  {
   "cell_type": "markdown",
   "metadata": {
    "application/vnd.databricks.v1+cell": {
     "cellMetadata": {
      "byteLimit": 2048000,
      "rowLimit": 10000
     },
     "inputWidgets": {},
     "nuid": "ba19772e-9a93-44b0-b795-e9b078d9145c",
     "showTitle": false,
     "title": ""
    }
   },
   "source": [
    "\n",
    "### Creating road_category_name column"
   ]
  },
  {
   "cell_type": "code",
   "execution_count": 0,
   "metadata": {
    "application/vnd.databricks.v1+cell": {
     "cellMetadata": {
      "byteLimit": 2048000,
      "rowLimit": 10000
     },
     "inputWidgets": {},
     "nuid": "f35afdec-4cf2-48f1-9e34-208f0628aff8",
     "showTitle": false,
     "title": ""
    }
   },
   "outputs": [],
   "source": [
    "def road_Category(df):\n",
    "    \n",
    "    print('Creating Road Category Name Column: ', end='')\n",
    "\n",
    "    from pyspark.sql.functions import when, col\n",
    "\n",
    "    df_road_Cat = df.withColumn(\"Road_Category_Name\",\n",
    "                  when(col('Road_Category') == 'TA', 'Class A Trunk Road')\n",
    "                  .when(col('Road_Category') == 'TM', 'Class A Trunk Motor')\n",
    "                   .when(col('Road_Category') == 'PA','Class A Principal road')\n",
    "                    .when(col('Road_Category') == 'PM','Class A Principal Motorway')\n",
    "                    .when(col('Road_Category') == 'M','Class B road')\n",
    "                    .otherwise('NA')\n",
    "                  \n",
    "                  )\n",
    "    print('Success!! ')\n",
    "    print('***********************')\n",
    "    return df_road_Cat"
   ]
  },
  {
   "cell_type": "markdown",
   "metadata": {
    "application/vnd.databricks.v1+cell": {
     "cellMetadata": {
      "byteLimit": 2048000,
      "rowLimit": 10000
     },
     "inputWidgets": {},
     "nuid": "0a3c5716-62b3-4a87-8fc9-105775140c3c",
     "showTitle": false,
     "title": ""
    }
   },
   "source": [
    "\n",
    "### Creating road_type column\n",
    "\n"
   ]
  },
  {
   "cell_type": "code",
   "execution_count": 0,
   "metadata": {
    "application/vnd.databricks.v1+cell": {
     "cellMetadata": {
      "byteLimit": 2048000,
      "rowLimit": 10000
     },
     "inputWidgets": {},
     "nuid": "d423d77e-29aa-46f0-853c-008a4dff5516",
     "showTitle": false,
     "title": ""
    }
   },
   "outputs": [],
   "source": [
    "def road_Type(df):\n",
    "    \n",
    "    print('Creating Road Type Name Column: ', end='')\n",
    "\n",
    "    from pyspark.sql.functions import when, col\n",
    "\n",
    "    df_road_Type = df.withColumn(\"Road_Type\",\n",
    "                  when(col('Road_Category_Name').like('%Class A%'),'Major')\n",
    "                  .when(col('Road_Category_Name').like('%Class B%'),'Minor')\n",
    "                    .otherwise('NA')\n",
    "                  \n",
    "                  )\n",
    "    print('Success!! ')\n",
    "    print('***********************')\n",
    "    return df_road_Type"
   ]
  },
  {
   "cell_type": "markdown",
   "metadata": {
    "application/vnd.databricks.v1+cell": {
     "cellMetadata": {
      "byteLimit": 2048000,
      "rowLimit": 10000
     },
     "inputWidgets": {},
     "nuid": "a66cf121-a1cb-41b3-a04c-6009a2c747db",
     "showTitle": false,
     "title": ""
    }
   },
   "source": [
    "OR"
   ]
  },
  {
   "cell_type": "code",
   "execution_count": 0,
   "metadata": {
    "application/vnd.databricks.v1+cell": {
     "cellMetadata": {
      "byteLimit": 2048000,
      "rowLimit": 10000
     },
     "inputWidgets": {},
     "nuid": "1c219ee7-fe83-4d40-bfab-b147fea55d1b",
     "showTitle": false,
     "title": ""
    }
   },
   "outputs": [],
   "source": [
    "def road_Type_Alt(df):\n",
    "    print('Creating Road Type Name Column: ', end='')\n",
    "\n",
    "    from pyspark.sql.functions import when, col\n",
    "\n",
    "    df_road_Type = df.withColumn(\"Road_Type\",\n",
    "                  when(col('Road_Category_Name').contains('Class A'), 'Major')\n",
    "                  .when(col('Road_Category_Name').contains('Class B'), 'Minor')\n",
    "                  .otherwise('NA')\n",
    "                  )\n",
    "    print('Success!! ')\n",
    "    print('***********************')\n",
    "    return df_road_Type\n"
   ]
  },
  {
   "cell_type": "markdown",
   "metadata": {
    "application/vnd.databricks.v1+cell": {
     "cellMetadata": {
      "byteLimit": 2048000,
      "rowLimit": 10000
     },
     "inputWidgets": {},
     "nuid": "0c6c15a9-2340-4a44-a1b7-3fee3b697b9b",
     "showTitle": false,
     "title": ""
    }
   },
   "source": [
    "\n",
    "### Writing data to silver_roads in Silver schema"
   ]
  },
  {
   "cell_type": "code",
   "execution_count": 0,
   "metadata": {
    "application/vnd.databricks.v1+cell": {
     "cellMetadata": {
      "byteLimit": 2048000,
      "rowLimit": 10000
     },
     "inputWidgets": {},
     "nuid": "ebbe688b-3bd7-489c-8320-06d5b1ef380e",
     "showTitle": false,
     "title": ""
    }
   },
   "outputs": [],
   "source": [
    "def write_Roads_SilverTable(StreamingDF, environment):\n",
    "\n",
    "    print('Writing the silver_roads Data : ',end='') \n",
    "\n",
    "    write_StreamSilver_Road = (StreamingDF.writeStream\n",
    "                .format('delta')\n",
    "                .option('checkpointLocation', checkpoint+ \"/SilverRoadsLoad/Checkpt/\")\n",
    "                .outputMode('append')\n",
    "                .queryName(\"SilverRoadsWriteStream\")\n",
    "                .trigger(availableNow=True)\n",
    "                .toTable(f\"`{environment}_catalog`.`silver`.`silver_roads`\"))\n",
    "    \n",
    "    write_StreamSilver_Road.awaitTermination()\n",
    "\n",
    "    print(f'Writing `{environment}_catalog`.`silver`.`silver_roads` Success!')"
   ]
  },
  {
   "cell_type": "markdown",
   "metadata": {
    "application/vnd.databricks.v1+cell": {
     "cellMetadata": {
      "byteLimit": 2048000,
      "rowLimit": 10000
     },
     "inputWidgets": {},
     "nuid": "afe0adaf-71a2-4bdd-a6f1-e2b0df73d6dc",
     "showTitle": false,
     "title": ""
    }
   },
   "source": [
    "### Before adding new data"
   ]
  },
  {
   "cell_type": "code",
   "execution_count": 0,
   "metadata": {
    "application/vnd.databricks.v1+cell": {
     "cellMetadata": {
      "byteLimit": 2048000,
      "rowLimit": 10000
     },
     "inputWidgets": {},
     "nuid": "8e739b8b-3c27-427f-9a70-2e3692b651f9",
     "showTitle": false,
     "title": ""
    }
   },
   "outputs": [
    {
     "data": {
      "text/html": [
       "<style scoped>\n",
       "  .table-result-container {\n",
       "    max-height: 300px;\n",
       "    overflow: auto;\n",
       "  }\n",
       "  table, th, td {\n",
       "    border: 1px solid black;\n",
       "    border-collapse: collapse;\n",
       "  }\n",
       "  th, td {\n",
       "    padding: 5px;\n",
       "  }\n",
       "  th {\n",
       "    text-align: left;\n",
       "  }\n",
       "</style><div class='table-result-container'><table class='table-result'><thead style='background-color: white'><tr><th>Num of Rows</th></tr></thead><tbody><tr><td>76</td></tr></tbody></table></div>"
      ]
     },
     "metadata": {
      "application/vnd.databricks.v1+output": {
       "addedWidgets": {},
       "aggData": [],
       "aggError": "",
       "aggOverflow": false,
       "aggSchema": [],
       "aggSeriesLimitReached": false,
       "aggType": "",
       "arguments": {},
       "columnCustomDisplayInfos": {},
       "data": [
        [
         76
        ]
       ],
       "datasetInfos": [],
       "dbfsResultPath": null,
       "isJsonSchema": true,
       "metadata": {},
       "overflow": false,
       "plotOptions": {
        "customPlotOptions": {},
        "displayType": "table",
        "pivotAggregation": null,
        "pivotColumns": null,
        "xColumns": null,
        "yColumns": null
       },
       "removedWidgets": [],
       "schema": [
        {
         "metadata": "{}",
         "name": "Num of Rows",
         "type": "\"long\""
        }
       ],
       "type": "table"
      }
     },
     "output_type": "display_data"
    }
   ],
   "source": [
    "# Check if the table exists\n",
    "tableExists = spark._jsparkSession.catalog().tableExists(f\"{env}_catalog.silver.silver_roads\")\n",
    "\n",
    "if tableExists:\n",
    "    # If the table exists, execute the query\n",
    "    query = f\"SELECT count(*) as `Num of Rows` FROM `{env}_catalog`.`silver`.`silver_roads`\"\n",
    "    df = spark.sql(query)\n",
    "    display(df)\n",
    "else:\n",
    "    print(\"Table does not exist.\")"
   ]
  },
  {
   "cell_type": "markdown",
   "metadata": {
    "application/vnd.databricks.v1+cell": {
     "cellMetadata": {
      "byteLimit": 2048000,
      "rowLimit": 10000
     },
     "inputWidgets": {},
     "nuid": "5520a2cd-34e5-4fe1-83d4-186d2d4be13a",
     "showTitle": false,
     "title": ""
    }
   },
   "source": [
    "\n",
    "### Calling all the functions"
   ]
  },
  {
   "cell_type": "code",
   "execution_count": 0,
   "metadata": {
    "application/vnd.databricks.v1+cell": {
     "cellMetadata": {
      "byteLimit": 2048000,
      "rowLimit": 10000
     },
     "inputWidgets": {},
     "nuid": "21e5b090-7152-482f-9307-6338e6a999e0",
     "showTitle": false,
     "title": ""
    }
   },
   "outputs": [
    {
     "name": "stdout",
     "output_type": "stream",
     "text": [
      "Reading the Bronze Table raw_roads Data : Reading dev_catalog.bronze.raw_roads Success!\n",
      "**********************************\n",
      "Removing Duplicate values: Success!\n",
      "Replacing NULLs of String column DataType with \"Unknown\": Success!\n",
      "Replacing NULLs of Numeric column DataType with \"0\":  Success!\n",
      "Creating Road Category Name Column: Success!! \n",
      "***********************\n",
      "Creating Road Type Name Column: Success!! \n",
      "***********************\n",
      "Writing the silver_roads Data : Writing `dev_catalog`.`silver`.`silver_roads` Success!\n"
     ]
    }
   ],
   "source": [
    "# Start by reading the data from the Bronze table\n",
    "df_roads = read_BronzeRoadsTable(env)\n",
    "\n",
    "# remove duplicates\n",
    "df_noDups = remove_Dups(df_roads)\n",
    "\n",
    "# Get dataframe columns name to a list\n",
    "AllColumns = df_noDups.schema.names\n",
    "\n",
    "# Handle null values in strings and numeric datatypes\n",
    "df_clean = handle_NULLs(df_noDups, AllColumns)\n",
    "\n",
    "## Creating Road_Category_name \n",
    "df_roadCat = road_Category(df_clean)\n",
    "\n",
    "## Creating Road_Type column\n",
    "df_type = road_Type(df_roadCat)\n",
    "\n",
    "## Writing data to silver_roads table\n",
    "write_Roads_SilverTable(df_type,env)"
   ]
  },
  {
   "cell_type": "markdown",
   "metadata": {
    "application/vnd.databricks.v1+cell": {
     "cellMetadata": {
      "byteLimit": 2048000,
      "rowLimit": 10000
     },
     "inputWidgets": {},
     "nuid": "ce14a25d-5538-4b57-90e7-afac725cef8a",
     "showTitle": false,
     "title": ""
    }
   },
   "source": [
    "### After adding new data"
   ]
  },
  {
   "cell_type": "code",
   "execution_count": 0,
   "metadata": {
    "application/vnd.databricks.v1+cell": {
     "cellMetadata": {
      "byteLimit": 2048000,
      "implicitDf": true,
      "rowLimit": 10000
     },
     "inputWidgets": {},
     "nuid": "5d0b54e0-c1d9-4bd1-a998-902225c6ba16",
     "showTitle": false,
     "title": ""
    }
   },
   "outputs": [
    {
     "data": {
      "text/html": [
       "<style scoped>\n",
       "  .table-result-container {\n",
       "    max-height: 300px;\n",
       "    overflow: auto;\n",
       "  }\n",
       "  table, th, td {\n",
       "    border: 1px solid black;\n",
       "    border-collapse: collapse;\n",
       "  }\n",
       "  th, td {\n",
       "    padding: 5px;\n",
       "  }\n",
       "  th {\n",
       "    text-align: left;\n",
       "  }\n",
       "</style><div class='table-result-container'><table class='table-result'><thead style='background-color: white'><tr><th>Num of Rows</th></tr></thead><tbody><tr><td>76</td></tr></tbody></table></div>"
      ]
     },
     "metadata": {
      "application/vnd.databricks.v1+output": {
       "addedWidgets": {},
       "aggData": [],
       "aggError": "",
       "aggOverflow": false,
       "aggSchema": [],
       "aggSeriesLimitReached": false,
       "aggType": "",
       "arguments": {},
       "columnCustomDisplayInfos": {},
       "data": [
        [
         76
        ]
       ],
       "datasetInfos": [],
       "dbfsResultPath": null,
       "isJsonSchema": true,
       "metadata": {
        "createTempViewForImplicitDf": true,
        "dataframeName": "_sqldf",
        "executionCount": 25
       },
       "overflow": false,
       "plotOptions": {
        "customPlotOptions": {},
        "displayType": "table",
        "pivotAggregation": null,
        "pivotColumns": null,
        "xColumns": null,
        "yColumns": null
       },
       "removedWidgets": [],
       "schema": [
        {
         "metadata": "{}",
         "name": "Num of Rows",
         "type": "\"long\""
        }
       ],
       "type": "table"
      }
     },
     "output_type": "display_data"
    }
   ],
   "source": [
    "%sql\n",
    "\n",
    "SELECT count(*) as `Num of Rows` FROM `dev_catalog`.`silver`.`silver_roads`"
   ]
  },
  {
   "cell_type": "markdown",
   "metadata": {
    "application/vnd.databricks.v1+cell": {
     "cellMetadata": {
      "byteLimit": 2048000,
      "rowLimit": 10000
     },
     "inputWidgets": {},
     "nuid": "0a836959-f4c3-4e36-9b8e-2dc004b16e90",
     "showTitle": false,
     "title": ""
    }
   },
   "source": [
    "### Display small sample of data"
   ]
  },
  {
   "cell_type": "code",
   "execution_count": 0,
   "metadata": {
    "application/vnd.databricks.v1+cell": {
     "cellMetadata": {
      "byteLimit": 2048000,
      "implicitDf": true,
      "rowLimit": 10000
     },
     "inputWidgets": {},
     "nuid": "787f33e9-6218-4610-a28c-dabcc2490e88",
     "showTitle": false,
     "title": ""
    }
   },
   "outputs": [
    {
     "data": {
      "text/html": [
       "<style scoped>\n",
       "  .table-result-container {\n",
       "    max-height: 300px;\n",
       "    overflow: auto;\n",
       "  }\n",
       "  table, th, td {\n",
       "    border: 1px solid black;\n",
       "    border-collapse: collapse;\n",
       "  }\n",
       "  th, td {\n",
       "    padding: 5px;\n",
       "  }\n",
       "  th {\n",
       "    text-align: left;\n",
       "  }\n",
       "</style><div class='table-result-container'><table class='table-result'><thead style='background-color: white'><tr><th>Road_ID</th><th>Road_Category_Id</th><th>Road_Category</th><th>Region_ID</th><th>Region_Name</th><th>Total_Link_Length_Km</th><th>Total_Link_Length_Miles</th><th>All_Motor_Vehicles</th><th>Road_Category_Name</th><th>Road_Type</th></tr></thead><tbody><tr><td>75</td><td>1</td><td>TM</td><td>7</td><td>East of England</td><td>245.9</td><td>152.8</td><td>4.120104199E9</td><td>Class A Trunk Motor</td><td>Major</td></tr><tr><td>44</td><td>5</td><td>M</td><td>10</td><td>West Midlands</td><td>27956.1</td><td>17371.12</td><td>9.927697665E9</td><td>Class B road</td><td>Minor</td></tr><tr><td>28</td><td>4</td><td>PA</td><td>7</td><td>East of England</td><td>2719.344</td><td>1689.72</td><td>7.493977513E9</td><td>Class A Principal road</td><td>Major</td></tr><tr><td>33</td><td>4</td><td>PA</td><td>8</td><td>Yorkshire and the Humber</td><td>2559.104</td><td>1590.15</td><td>6.365559059E9</td><td>Class A Principal road</td><td>Major</td></tr><tr><td>40</td><td>1</td><td>TM</td><td>10</td><td>West Midlands</td><td>351.963</td><td>218.7</td><td>5.280343918E9</td><td>Class A Trunk Motor</td><td>Major</td></tr></tbody></table></div>"
      ]
     },
     "metadata": {
      "application/vnd.databricks.v1+output": {
       "addedWidgets": {},
       "aggData": [],
       "aggError": "",
       "aggOverflow": false,
       "aggSchema": [],
       "aggSeriesLimitReached": false,
       "aggType": "",
       "arguments": {},
       "columnCustomDisplayInfos": {},
       "data": [
        [
         75,
         1,
         "TM",
         7,
         "East of England",
         245.9,
         152.8,
         4120104199,
         "Class A Trunk Motor",
         "Major"
        ],
        [
         44,
         5,
         "M",
         10,
         "West Midlands",
         27956.1,
         17371.12,
         9927697665,
         "Class B road",
         "Minor"
        ],
        [
         28,
         4,
         "PA",
         7,
         "East of England",
         2719.344,
         1689.72,
         7493977513,
         "Class A Principal road",
         "Major"
        ],
        [
         33,
         4,
         "PA",
         8,
         "Yorkshire and the Humber",
         2559.104,
         1590.15,
         6365559059,
         "Class A Principal road",
         "Major"
        ],
        [
         40,
         1,
         "TM",
         10,
         "West Midlands",
         351.963,
         218.7,
         5280343918,
         "Class A Trunk Motor",
         "Major"
        ]
       ],
       "datasetInfos": [],
       "dbfsResultPath": null,
       "isJsonSchema": true,
       "metadata": {
        "createTempViewForImplicitDf": true,
        "dataframeName": "_sqldf",
        "executionCount": 26
       },
       "overflow": false,
       "plotOptions": {
        "customPlotOptions": {},
        "displayType": "table",
        "pivotAggregation": null,
        "pivotColumns": null,
        "xColumns": null,
        "yColumns": null
       },
       "removedWidgets": [],
       "schema": [
        {
         "metadata": "{}",
         "name": "Road_ID",
         "type": "\"integer\""
        },
        {
         "metadata": "{}",
         "name": "Road_Category_Id",
         "type": "\"integer\""
        },
        {
         "metadata": "{}",
         "name": "Road_Category",
         "type": "\"string\""
        },
        {
         "metadata": "{}",
         "name": "Region_ID",
         "type": "\"integer\""
        },
        {
         "metadata": "{}",
         "name": "Region_Name",
         "type": "\"string\""
        },
        {
         "metadata": "{}",
         "name": "Total_Link_Length_Km",
         "type": "\"double\""
        },
        {
         "metadata": "{}",
         "name": "Total_Link_Length_Miles",
         "type": "\"double\""
        },
        {
         "metadata": "{}",
         "name": "All_Motor_Vehicles",
         "type": "\"double\""
        },
        {
         "metadata": "{}",
         "name": "Road_Category_Name",
         "type": "\"string\""
        },
        {
         "metadata": "{}",
         "name": "Road_Type",
         "type": "\"string\""
        }
       ],
       "type": "table"
      }
     },
     "output_type": "display_data"
    }
   ],
   "source": [
    "%sql\n",
    "\n",
    "SELECT * FROM `dev_catalog`.`silver`.`silver_roads` Limit 5"
   ]
  }
 ],
 "metadata": {
  "application/vnd.databricks.v1+notebook": {
   "dashboards": [],
   "environmentMetadata": null,
   "language": "python",
   "notebookMetadata": {
    "mostRecentlyExecutedCommandWithImplicitDF": {
     "commandId": 3191140395212484,
     "dataframes": [
      "_sqldf"
     ]
    },
    "pythonIndentUnit": 4
   },
   "notebookName": "5_Silver-Roads-Transformation",
   "widgets": {
    "env": {
     "currentValue": "dev",
     "nuid": "a2272d04-2d4d-4bf1-a473-417ce16c5c53",
     "typedWidgetInfo": {
      "autoCreated": false,
      "defaultValue": "",
      "label": "Enter the environment in lower case",
      "name": "env",
      "options": {
       "validationRegex": null,
       "widgetDisplayType": "Text"
      },
      "parameterDataType": "String"
     },
     "widgetInfo": {
      "defaultValue": "",
      "label": "Enter the environment in lower case",
      "name": "env",
      "options": {
       "autoCreated": null,
       "validationRegex": null,
       "widgetType": "text"
      },
      "widgetType": "text"
     }
    }
   }
  },
  "language_info": {
   "name": "python"
  }
 },
 "nbformat": 4,
 "nbformat_minor": 0
}
