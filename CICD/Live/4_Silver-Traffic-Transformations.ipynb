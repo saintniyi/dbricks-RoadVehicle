{
 "cells": [
  {
   "cell_type": "markdown",
   "metadata": {
    "application/vnd.databricks.v1+cell": {
     "cellMetadata": {},
     "inputWidgets": {},
     "nuid": "82d5c617-437b-4d21-887c-453adbaa41e8",
     "showTitle": false,
     "title": ""
    }
   },
   "source": [
    "### Get environment name from widget and assign to variable "
   ]
  },
  {
   "cell_type": "code",
   "execution_count": 0,
   "metadata": {
    "application/vnd.databricks.v1+cell": {
     "cellMetadata": {
      "byteLimit": 2048000,
      "rowLimit": 10000
     },
     "inputWidgets": {},
     "nuid": "cb8f49c7-0091-4a4f-9fbb-314f81bab34e",
     "showTitle": false,
     "title": ""
    }
   },
   "outputs": [],
   "source": [
    "dbutils.widgets.text(name=\"env\", defaultValue='', label='Enter the environment in lower case')\n",
    "env = dbutils.widgets.get(\"env\")"
   ]
  },
  {
   "cell_type": "markdown",
   "metadata": {
    "application/vnd.databricks.v1+cell": {
     "cellMetadata": {},
     "inputWidgets": {},
     "nuid": "89b98abc-a008-45de-9c76-6079b7042f9f",
     "showTitle": false,
     "title": ""
    }
   },
   "source": [
    "\n",
    "<br>\n",
    "\n",
    "### Call common notebook to access shared variables and methods"
   ]
  },
  {
   "cell_type": "code",
   "execution_count": 0,
   "metadata": {
    "application/vnd.databricks.v1+cell": {
     "cellMetadata": {
      "byteLimit": 2048000,
      "rowLimit": 10000
     },
     "inputWidgets": {},
     "nuid": "ca96e816-54a0-4c5c-a652-a7b4196b18f4",
     "showTitle": false,
     "title": ""
    }
   },
   "outputs": [],
   "source": [
    "%run \"./3_Common\""
   ]
  },
  {
   "cell_type": "markdown",
   "metadata": {
    "application/vnd.databricks.v1+cell": {
     "cellMetadata": {},
     "inputWidgets": {},
     "nuid": "844a6639-6657-466f-b72b-7104ba0a18fc",
     "showTitle": false,
     "title": ""
    }
   },
   "source": [
    "\n",
    "### Reading the data from bronze raw_traffic Table"
   ]
  },
  {
   "cell_type": "code",
   "execution_count": 0,
   "metadata": {
    "application/vnd.databricks.v1+cell": {
     "cellMetadata": {
      "byteLimit": 2048000,
      "rowLimit": 10000
     },
     "inputWidgets": {},
     "nuid": "c78c455e-47a7-464c-ba8a-ae98100a30a5",
     "showTitle": false,
     "title": ""
    }
   },
   "outputs": [],
   "source": [
    "\n",
    "def read_BronzeTrafficTable(environment):\n",
    "    print('Reading the Bronze Table Data : ',end='')\n",
    "    df_bronzeTraffic = (spark.readStream\n",
    "                    .table(f\"`{environment}_catalog`.`bronze`.raw_traffic\")\n",
    "                    )\n",
    "    print(f'Reading {environment}_catalog.bronze.raw_traffic Success!')\n",
    "    return df_bronzeTraffic"
   ]
  },
  {
   "cell_type": "markdown",
   "metadata": {
    "application/vnd.databricks.v1+cell": {
     "cellMetadata": {},
     "inputWidgets": {},
     "nuid": "99cde0c9-f4f7-4b62-9413-a8df55a217a9",
     "showTitle": false,
     "title": ""
    }
   },
   "source": [
    "\n",
    "### Getting count of Electric vehicles by creating new column\n"
   ]
  },
  {
   "cell_type": "code",
   "execution_count": 0,
   "metadata": {
    "application/vnd.databricks.v1+cell": {
     "cellMetadata": {
      "byteLimit": 2048000,
      "rowLimit": 10000
     },
     "inputWidgets": {},
     "nuid": "05f15a1e-cdab-4c5f-97b9-ab01f34e3a5c",
     "showTitle": false,
     "title": ""
    }
   },
   "outputs": [],
   "source": [
    "def ev_Count(df):\n",
    "\n",
    "    print('Creating Electric Vehicles Count Column : ', end='')\n",
    "\n",
    "    from pyspark.sql.functions import col\n",
    "\n",
    "    df_ev = df.withColumn('Electric_Vehicles_Count', \n",
    "                          col('EV_Car') + col('EV_Bike')\n",
    "                          ) \n",
    "    \n",
    "    print('Success!! ')\n",
    "\n",
    "    return df_ev"
   ]
  },
  {
   "cell_type": "markdown",
   "metadata": {
    "application/vnd.databricks.v1+cell": {
     "cellMetadata": {},
     "inputWidgets": {},
     "nuid": "f17e6f14-9dfb-4da3-948c-179d08584668",
     "showTitle": false,
     "title": ""
    }
   },
   "source": [
    "\n",
    "### Creating columns to get Count of all motor vehicles\n"
   ]
  },
  {
   "cell_type": "code",
   "execution_count": 0,
   "metadata": {
    "application/vnd.databricks.v1+cell": {
     "cellMetadata": {
      "byteLimit": 2048000,
      "rowLimit": 10000
     },
     "inputWidgets": {},
     "nuid": "47e17ec0-de2f-4a27-bb31-731ab31d6e08",
     "showTitle": false,
     "title": ""
    }
   },
   "outputs": [],
   "source": [
    "def Motor_Count(df):\n",
    "\n",
    "    print('Creating All Motor Vehicles Count Column : ', end='')\n",
    "\n",
    "    from pyspark.sql.functions import col\n",
    "\n",
    "    df_motor = df.withColumn('Motor_Vehicles_Count',\n",
    "                            col('Electric_Vehicles_Count') + col('Two_wheeled_motor_vehicles') + col('Cars_and_taxis') + col('Buses_and_coaches') + col('LGV_Type') + col('HGV_Type')\n",
    "                            )\n",
    "    \n",
    "    print('Success!! ')\n",
    "    \n",
    "    return df_motor"
   ]
  },
  {
   "cell_type": "markdown",
   "metadata": {
    "application/vnd.databricks.v1+cell": {
     "cellMetadata": {},
     "inputWidgets": {},
     "nuid": "0b48f494-c505-4d4d-bc8e-000f7199818f",
     "showTitle": false,
     "title": ""
    }
   },
   "source": [
    "\n",
    "### Creating Transformed Time column"
   ]
  },
  {
   "cell_type": "code",
   "execution_count": 0,
   "metadata": {
    "application/vnd.databricks.v1+cell": {
     "cellMetadata": {
      "byteLimit": 2048000,
      "rowLimit": 10000
     },
     "inputWidgets": {},
     "nuid": "bce2aa6e-5ae5-49ec-8341-abff10c9ff1a",
     "showTitle": false,
     "title": ""
    }
   },
   "outputs": [],
   "source": [
    "def create_TransformedTime(df):\n",
    "\n",
    "    from pyspark.sql.functions import current_timestamp\n",
    "\n",
    "    print('Creating Transformed Time column : ', end='')\n",
    "\n",
    "    df_timestamp = df.withColumn('Transformed_Time',\n",
    "                      current_timestamp()\n",
    "                      )\n",
    "    \n",
    "    print('Success!!')\n",
    "    \n",
    "    return df_timestamp"
   ]
  },
  {
   "cell_type": "markdown",
   "metadata": {
    "application/vnd.databricks.v1+cell": {
     "cellMetadata": {},
     "inputWidgets": {},
     "nuid": "157f2e96-5011-445f-a003-36ddc09135e4",
     "showTitle": false,
     "title": ""
    }
   },
   "source": [
    "\n",
    "### Writing the Transformed data to Silver_Traffic Table"
   ]
  },
  {
   "cell_type": "code",
   "execution_count": 0,
   "metadata": {
    "application/vnd.databricks.v1+cell": {
     "cellMetadata": {
      "byteLimit": 2048000,
      "rowLimit": 10000
     },
     "inputWidgets": {},
     "nuid": "bc590ef3-e03a-4402-beff-197c8bb663ef",
     "showTitle": false,
     "title": ""
    }
   },
   "outputs": [],
   "source": [
    "def write_Traffic_SilverTable(StreamingDF,environment):\n",
    "\n",
    "    print('Writing the silver_traffic Data : ', end='') \n",
    "\n",
    "    write_StreamSilver = (StreamingDF.writeStream\n",
    "                .format('delta')\n",
    "                .option('checkpointLocation', checkpoint + \"/SilverTrafficLoad/Checkpt/\")\n",
    "                .outputMode('append')\n",
    "                .queryName(\"SilverTrafficWriteStream\")\n",
    "                .trigger(availableNow=True)\n",
    "                .toTable(f\"`{environment}_catalog`.`silver`.`silver_traffic`\"))\n",
    "    \n",
    "    write_StreamSilver.awaitTermination()\n",
    "    \n",
    "    print(f'Writing `{environment}_catalog`.`silver`.`silver_traffic` Success!')"
   ]
  },
  {
   "cell_type": "markdown",
   "metadata": {
    "application/vnd.databricks.v1+cell": {
     "cellMetadata": {},
     "inputWidgets": {},
     "nuid": "bfe82aac-c041-4213-a164-9fe954948c33",
     "showTitle": false,
     "title": ""
    }
   },
   "source": [
    "### Before adding new data"
   ]
  },
  {
   "cell_type": "code",
   "execution_count": 0,
   "metadata": {
    "application/vnd.databricks.v1+cell": {
     "cellMetadata": {
      "byteLimit": 2048000,
      "implicitDf": true,
      "rowLimit": 10000
     },
     "inputWidgets": {},
     "nuid": "62a5a854-7f6e-496a-94f5-9d4f5e60cbb5",
     "showTitle": false,
     "title": ""
    }
   },
   "outputs": [],
   "source": [
    "# Check if the table exists\n",
    "tableExists = spark._jsparkSession.catalog().tableExists(f\"{env}_catalog.silver.silver_traffic\")\n",
    "\n",
    "if tableExists:\n",
    "    # If the table exists, execute the query\n",
    "    query = f\"SELECT count(*) as `Num of Rows` FROM `{env}_catalog`.`silver`.`silver_traffic`\"\n",
    "    df = spark.sql(query)\n",
    "    display(df)\n",
    "else:\n",
    "    print(\"Table does not exist.\")"
   ]
  },
  {
   "cell_type": "markdown",
   "metadata": {
    "application/vnd.databricks.v1+cell": {
     "cellMetadata": {},
     "inputWidgets": {},
     "nuid": "02ac392e-e838-46df-90b4-a14586f6e599",
     "showTitle": false,
     "title": ""
    }
   },
   "source": [
    "## Calling all the functions"
   ]
  },
  {
   "cell_type": "code",
   "execution_count": 0,
   "metadata": {
    "application/vnd.databricks.v1+cell": {
     "cellMetadata": {
      "byteLimit": 2048000,
      "rowLimit": 10000
     },
     "inputWidgets": {},
     "nuid": "95e40566-fb31-4af2-a517-17f734ded95a",
     "showTitle": false,
     "title": ""
    }
   },
   "outputs": [],
   "source": [
    "## Reading the bronze traffic data\n",
    "df_trafficdata = read_BronzeTrafficTable(env)\n",
    "\n",
    "# To remove duplicate rows\n",
    "df_noDups = remove_Dups(df_trafficdata)\n",
    "\n",
    "# Get dataframe columns name to a list\n",
    "Allcolumns = df_noDups.schema.names\n",
    "\n",
    "# Replace any NULL values in strings and numeric datatypes\n",
    "df_noNulls = handle_NULLs(df_noDups, Allcolumns)\n",
    "\n",
    "## To get the total EV_Count\n",
    "df_ev = ev_Count(df_noNulls)\n",
    "\n",
    "## To get the Total Motor vehicle count\n",
    "df_motor = Motor_Count(df_ev)\n",
    "\n",
    "## Calling Transformed time function\n",
    "df_final = create_TransformedTime(df_motor)\n",
    "\n",
    "## Writing to silver_traffic\n",
    "write_Traffic_SilverTable(df_final, env)"
   ]
  },
  {
   "cell_type": "markdown",
   "metadata": {
    "application/vnd.databricks.v1+cell": {
     "cellMetadata": {},
     "inputWidgets": {},
     "nuid": "0ef5f0dc-6f65-47ce-92a1-6a3602382663",
     "showTitle": false,
     "title": ""
    }
   },
   "source": [
    "### After adding new data"
   ]
  },
  {
   "cell_type": "code",
   "execution_count": 0,
   "metadata": {
    "application/vnd.databricks.v1+cell": {
     "cellMetadata": {
      "byteLimit": 2048000,
      "implicitDf": true,
      "rowLimit": 10000
     },
     "inputWidgets": {},
     "nuid": "161f737c-817b-4d58-9b70-d88884fab838",
     "showTitle": false,
     "title": ""
    }
   },
   "outputs": [],
   "source": [
    " %sql\n",
    "\n",
    "SELECT count(*) as `Num of Rows` FROM `dev_catalog`.`silver`.`silver_traffic`"
   ]
  },
  {
   "cell_type": "markdown",
   "metadata": {
    "application/vnd.databricks.v1+cell": {
     "cellMetadata": {},
     "inputWidgets": {},
     "nuid": "0d34fcde-abff-4492-820a-f5f89df70feb",
     "showTitle": false,
     "title": ""
    }
   },
   "source": [
    "### Display small sample of data"
   ]
  },
  {
   "cell_type": "code",
   "execution_count": 0,
   "metadata": {
    "application/vnd.databricks.v1+cell": {
     "cellMetadata": {
      "byteLimit": 2048000,
      "implicitDf": true,
      "rowLimit": 10000
     },
     "inputWidgets": {},
     "nuid": "fe733035-deca-4104-903c-8e4749e156e3",
     "showTitle": false,
     "title": ""
    }
   },
   "outputs": [],
   "source": [
    "%sql\n",
    "\n",
    "SELECT * FROM `dev_catalog`.`silver`.`silver_traffic` Limit 5"
   ]
  }
 ],
 "metadata": {
  "application/vnd.databricks.v1+notebook": {
   "dashboards": [],
   "environmentMetadata": null,
   "language": "python",
   "notebookMetadata": {
    "mostRecentlyExecutedCommandWithImplicitDF": {
     "commandId": 3191140395212461,
     "dataframes": [
      "_sqldf"
     ]
    },
    "pythonIndentUnit": 4
   },
   "notebookName": "4_Silver-Traffic-Transformations",
   "widgets": {
    "env": {
     "currentValue": "dev",
     "nuid": "aad65f65-3e66-4b2b-8ada-0e26a63ae2d1",
     "typedWidgetInfo": {
      "autoCreated": false,
      "defaultValue": "",
      "label": "Enter the environment in lower case",
      "name": "env",
      "options": {
       "validationRegex": null,
       "widgetDisplayType": "Text"
      },
      "parameterDataType": "String"
     },
     "widgetInfo": {
      "defaultValue": "",
      "label": "Enter the environment in lower case",
      "name": "env",
      "options": {
       "autoCreated": null,
       "validationRegex": null,
       "widgetType": "text"
      },
      "widgetType": "text"
     }
    }
   }
  },
  "language_info": {
   "name": "python"
  }
 },
 "nbformat": 4,
 "nbformat_minor": 0
}
